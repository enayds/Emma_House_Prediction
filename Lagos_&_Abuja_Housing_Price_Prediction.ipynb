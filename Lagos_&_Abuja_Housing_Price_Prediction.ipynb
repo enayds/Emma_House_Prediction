{
 "cells": [
  {
   "cell_type": "markdown",
   "metadata": {
    "_cell_guid": "b1076dfc-b9ad-4769-8c92-a6c4dae69d19",
    "_uuid": "8f2839f25d086af736a60e9eeb907d3b93b6e0e5",
    "id": "kgCknEcbajKs"
   },
   "source": [
    "# Predicting Nigeria House Prices (Lagos & Abuja)\n"
   ]
  },
  {
   "cell_type": "markdown",
   "metadata": {
    "id": "-evXqTL9ajKw"
   },
   "source": [
    "### Importing Libraries"
   ]
  },
  {
   "cell_type": "code",
   "execution_count": 1,
   "metadata": {
    "execution": {
     "iopub.execute_input": "2023-12-15T17:54:34.755556Z",
     "iopub.status.busy": "2023-12-15T17:54:34.755179Z",
     "iopub.status.idle": "2023-12-15T17:54:34.765526Z",
     "shell.execute_reply": "2023-12-15T17:54:34.764721Z",
     "shell.execute_reply.started": "2023-12-15T17:54:34.755527Z"
    },
    "id": "DFz_EbCjajKx",
    "trusted": true
   },
   "outputs": [],
   "source": [
    "import pandas as pd\n",
    "import numpy as np\n",
    "import matplotlib.pyplot as plt\n",
    "import plotly.express as px\n",
    "import seaborn as sns\n",
    "from sklearn.metrics import mean_absolute_error, r2_score\n",
    "from sklearn.preprocessing import OneHotEncoder\n",
    "from sklearn.model_selection import train_test_split, GridSearchCV\n",
    "from sklearn.pipeline import make_pipeline\n",
    "from sklearn.linear_model import Ridge\n",
    "from sklearn.preprocessing import OrdinalEncoder\n",
    "from sklearn.svm import SVR\n",
    "from sklearn.neighbors import KNeighborsRegressor\n",
    "from sklearn.tree import DecisionTreeRegressor\n",
    "from sklearn.ensemble import RandomForestRegressor, GradientBoostingRegressor\n",
    "# from ydata_profiling import ProfileReport\n",
    "from ipywidgets import Dropdown, IntSlider, interact\n",
    "%matplotlib inline\n",
    "\n",
    "import warnings\n",
    "\n",
    "warnings.filterwarnings(\"ignore\")\n",
    "\n",
    "plt.style.use('seaborn-v0_8-deep')\n",
    "plt.rcParams[\"figure.figsize\"] = (12,5)"
   ]
  },
  {
   "cell_type": "markdown",
   "metadata": {
    "id": "wCMrzX5iajKy"
   },
   "source": [
    "#### Importing data (csv) into Pandas dataframe"
   ]
  },
  {
   "cell_type": "code",
   "execution_count": 2,
   "metadata": {
    "execution": {
     "iopub.execute_input": "2023-12-15T17:57:21.954659Z",
     "iopub.status.busy": "2023-12-15T17:57:21.954249Z",
     "iopub.status.idle": "2023-12-15T17:57:22.040738Z",
     "shell.execute_reply": "2023-12-15T17:57:22.039837Z",
     "shell.execute_reply.started": "2023-12-15T17:57:21.954615Z"
    },
    "id": "JJ7cRbWNajKz",
    "trusted": true
   },
   "outputs": [
    {
     "name": "stdout",
     "output_type": "stream",
     "text": [
      "(24326, 8)\n"
     ]
    },
    {
     "data": {
      "text/html": [
       "<div>\n",
       "<style scoped>\n",
       "    .dataframe tbody tr th:only-of-type {\n",
       "        vertical-align: middle;\n",
       "    }\n",
       "\n",
       "    .dataframe tbody tr th {\n",
       "        vertical-align: top;\n",
       "    }\n",
       "\n",
       "    .dataframe thead th {\n",
       "        text-align: right;\n",
       "    }\n",
       "</style>\n",
       "<table border=\"1\" class=\"dataframe\">\n",
       "  <thead>\n",
       "    <tr style=\"text-align: right;\">\n",
       "      <th></th>\n",
       "      <th>bedrooms</th>\n",
       "      <th>bathrooms</th>\n",
       "      <th>toilets</th>\n",
       "      <th>parking_space</th>\n",
       "      <th>title</th>\n",
       "      <th>town</th>\n",
       "      <th>state</th>\n",
       "      <th>price</th>\n",
       "    </tr>\n",
       "  </thead>\n",
       "  <tbody>\n",
       "    <tr>\n",
       "      <th>0</th>\n",
       "      <td>6.0</td>\n",
       "      <td>5.0</td>\n",
       "      <td>5.0</td>\n",
       "      <td>4.0</td>\n",
       "      <td>Detached Duplex</td>\n",
       "      <td>Mabushi</td>\n",
       "      <td>Abuja</td>\n",
       "      <td>450000000.0</td>\n",
       "    </tr>\n",
       "    <tr>\n",
       "      <th>1</th>\n",
       "      <td>4.0</td>\n",
       "      <td>5.0</td>\n",
       "      <td>5.0</td>\n",
       "      <td>4.0</td>\n",
       "      <td>Terraced Duplexes</td>\n",
       "      <td>Katampe</td>\n",
       "      <td>Abuja</td>\n",
       "      <td>800000000.0</td>\n",
       "    </tr>\n",
       "    <tr>\n",
       "      <th>2</th>\n",
       "      <td>4.0</td>\n",
       "      <td>5.0</td>\n",
       "      <td>5.0</td>\n",
       "      <td>4.0</td>\n",
       "      <td>Detached Duplex</td>\n",
       "      <td>Lekki</td>\n",
       "      <td>Lagos</td>\n",
       "      <td>120000000.0</td>\n",
       "    </tr>\n",
       "    <tr>\n",
       "      <th>3</th>\n",
       "      <td>4.0</td>\n",
       "      <td>4.0</td>\n",
       "      <td>5.0</td>\n",
       "      <td>6.0</td>\n",
       "      <td>Detached Duplex</td>\n",
       "      <td>Ajah</td>\n",
       "      <td>Lagos</td>\n",
       "      <td>40000000.0</td>\n",
       "    </tr>\n",
       "    <tr>\n",
       "      <th>4</th>\n",
       "      <td>4.0</td>\n",
       "      <td>4.0</td>\n",
       "      <td>5.0</td>\n",
       "      <td>2.0</td>\n",
       "      <td>Semi Detached Duplex</td>\n",
       "      <td>Lekki</td>\n",
       "      <td>Lagos</td>\n",
       "      <td>75000000.0</td>\n",
       "    </tr>\n",
       "  </tbody>\n",
       "</table>\n",
       "</div>"
      ],
      "text/plain": [
       "   bedrooms  bathrooms  toilets  parking_space                 title     town  \\\n",
       "0       6.0        5.0      5.0            4.0       Detached Duplex  Mabushi   \n",
       "1       4.0        5.0      5.0            4.0     Terraced Duplexes  Katampe   \n",
       "2       4.0        5.0      5.0            4.0       Detached Duplex    Lekki   \n",
       "3       4.0        4.0      5.0            6.0       Detached Duplex     Ajah   \n",
       "4       4.0        4.0      5.0            2.0  Semi Detached Duplex    Lekki   \n",
       "\n",
       "   state        price  \n",
       "0  Abuja  450000000.0  \n",
       "1  Abuja  800000000.0  \n",
       "2  Lagos  120000000.0  \n",
       "3  Lagos   40000000.0  \n",
       "4  Lagos   75000000.0  "
      ]
     },
     "execution_count": 2,
     "metadata": {},
     "output_type": "execute_result"
    }
   ],
   "source": [
    "df = pd.read_csv(\"nigeria_houses_data.csv\")\n",
    "print(df.shape)\n",
    "df.head()"
   ]
  },
  {
   "cell_type": "code",
   "execution_count": 3,
   "metadata": {
    "execution": {
     "iopub.execute_input": "2023-12-15T17:57:58.784057Z",
     "iopub.status.busy": "2023-12-15T17:57:58.783627Z",
     "iopub.status.idle": "2023-12-15T17:57:58.815412Z",
     "shell.execute_reply": "2023-12-15T17:57:58.814525Z",
     "shell.execute_reply.started": "2023-12-15T17:57:58.784016Z"
    },
    "id": "jfEeLRzyajK0",
    "trusted": true
   },
   "outputs": [
    {
     "name": "stdout",
     "output_type": "stream",
     "text": [
      "<class 'pandas.core.frame.DataFrame'>\n",
      "RangeIndex: 24326 entries, 0 to 24325\n",
      "Data columns (total 8 columns):\n",
      " #   Column         Non-Null Count  Dtype  \n",
      "---  ------         --------------  -----  \n",
      " 0   bedrooms       24326 non-null  float64\n",
      " 1   bathrooms      24326 non-null  float64\n",
      " 2   toilets        24326 non-null  float64\n",
      " 3   parking_space  24326 non-null  float64\n",
      " 4   title          24326 non-null  object \n",
      " 5   town           24326 non-null  object \n",
      " 6   state          24326 non-null  object \n",
      " 7   price          24326 non-null  float64\n",
      "dtypes: float64(5), object(3)\n",
      "memory usage: 1.5+ MB\n"
     ]
    }
   ],
   "source": [
    "df.info()"
   ]
  },
  {
   "cell_type": "markdown",
   "metadata": {
    "id": "J2l2R4cSajK1"
   },
   "source": [
    "There are no missing values in the dataset."
   ]
  },
  {
   "cell_type": "markdown",
   "metadata": {
    "id": "3riKB3QfajK2"
   },
   "source": [
    "##### Summary Statistics of all features"
   ]
  },
  {
   "cell_type": "code",
   "execution_count": 4,
   "metadata": {
    "execution": {
     "iopub.execute_input": "2023-12-15T17:58:55.014836Z",
     "iopub.status.busy": "2023-12-15T17:58:55.01442Z",
     "iopub.status.idle": "2023-12-15T17:58:55.065108Z",
     "shell.execute_reply": "2023-12-15T17:58:55.063712Z",
     "shell.execute_reply.started": "2023-12-15T17:58:55.014804Z"
    },
    "id": "ZZo83OjBajK3",
    "trusted": true
   },
   "outputs": [
    {
     "data": {
      "text/html": [
       "<div>\n",
       "<style scoped>\n",
       "    .dataframe tbody tr th:only-of-type {\n",
       "        vertical-align: middle;\n",
       "    }\n",
       "\n",
       "    .dataframe tbody tr th {\n",
       "        vertical-align: top;\n",
       "    }\n",
       "\n",
       "    .dataframe thead th {\n",
       "        text-align: right;\n",
       "    }\n",
       "</style>\n",
       "<table border=\"1\" class=\"dataframe\">\n",
       "  <thead>\n",
       "    <tr style=\"text-align: right;\">\n",
       "      <th></th>\n",
       "      <th>bedrooms</th>\n",
       "      <th>bathrooms</th>\n",
       "      <th>toilets</th>\n",
       "      <th>parking_space</th>\n",
       "      <th>title</th>\n",
       "      <th>town</th>\n",
       "      <th>state</th>\n",
       "      <th>price</th>\n",
       "    </tr>\n",
       "  </thead>\n",
       "  <tbody>\n",
       "    <tr>\n",
       "      <th>count</th>\n",
       "      <td>24326.000000</td>\n",
       "      <td>24326.000000</td>\n",
       "      <td>24326.000000</td>\n",
       "      <td>24326.000000</td>\n",
       "      <td>24326</td>\n",
       "      <td>24326</td>\n",
       "      <td>24326</td>\n",
       "      <td>2.432600e+04</td>\n",
       "    </tr>\n",
       "    <tr>\n",
       "      <th>unique</th>\n",
       "      <td>NaN</td>\n",
       "      <td>NaN</td>\n",
       "      <td>NaN</td>\n",
       "      <td>NaN</td>\n",
       "      <td>7</td>\n",
       "      <td>189</td>\n",
       "      <td>25</td>\n",
       "      <td>NaN</td>\n",
       "    </tr>\n",
       "    <tr>\n",
       "      <th>top</th>\n",
       "      <td>NaN</td>\n",
       "      <td>NaN</td>\n",
       "      <td>NaN</td>\n",
       "      <td>NaN</td>\n",
       "      <td>Detached Duplex</td>\n",
       "      <td>Lekki</td>\n",
       "      <td>Lagos</td>\n",
       "      <td>NaN</td>\n",
       "    </tr>\n",
       "    <tr>\n",
       "      <th>freq</th>\n",
       "      <td>NaN</td>\n",
       "      <td>NaN</td>\n",
       "      <td>NaN</td>\n",
       "      <td>NaN</td>\n",
       "      <td>13992</td>\n",
       "      <td>10895</td>\n",
       "      <td>18445</td>\n",
       "      <td>NaN</td>\n",
       "    </tr>\n",
       "    <tr>\n",
       "      <th>mean</th>\n",
       "      <td>4.338814</td>\n",
       "      <td>4.600798</td>\n",
       "      <td>5.176355</td>\n",
       "      <td>4.041725</td>\n",
       "      <td>NaN</td>\n",
       "      <td>NaN</td>\n",
       "      <td>NaN</td>\n",
       "      <td>3.013802e+08</td>\n",
       "    </tr>\n",
       "    <tr>\n",
       "      <th>std</th>\n",
       "      <td>1.138497</td>\n",
       "      <td>1.163161</td>\n",
       "      <td>1.226253</td>\n",
       "      <td>1.399936</td>\n",
       "      <td>NaN</td>\n",
       "      <td>NaN</td>\n",
       "      <td>NaN</td>\n",
       "      <td>1.220403e+10</td>\n",
       "    </tr>\n",
       "    <tr>\n",
       "      <th>min</th>\n",
       "      <td>1.000000</td>\n",
       "      <td>1.000000</td>\n",
       "      <td>1.000000</td>\n",
       "      <td>1.000000</td>\n",
       "      <td>NaN</td>\n",
       "      <td>NaN</td>\n",
       "      <td>NaN</td>\n",
       "      <td>9.000000e+04</td>\n",
       "    </tr>\n",
       "    <tr>\n",
       "      <th>25%</th>\n",
       "      <td>4.000000</td>\n",
       "      <td>4.000000</td>\n",
       "      <td>5.000000</td>\n",
       "      <td>4.000000</td>\n",
       "      <td>NaN</td>\n",
       "      <td>NaN</td>\n",
       "      <td>NaN</td>\n",
       "      <td>5.200000e+07</td>\n",
       "    </tr>\n",
       "    <tr>\n",
       "      <th>50%</th>\n",
       "      <td>4.000000</td>\n",
       "      <td>5.000000</td>\n",
       "      <td>5.000000</td>\n",
       "      <td>4.000000</td>\n",
       "      <td>NaN</td>\n",
       "      <td>NaN</td>\n",
       "      <td>NaN</td>\n",
       "      <td>8.500000e+07</td>\n",
       "    </tr>\n",
       "    <tr>\n",
       "      <th>75%</th>\n",
       "      <td>5.000000</td>\n",
       "      <td>5.000000</td>\n",
       "      <td>6.000000</td>\n",
       "      <td>4.000000</td>\n",
       "      <td>NaN</td>\n",
       "      <td>NaN</td>\n",
       "      <td>NaN</td>\n",
       "      <td>1.600000e+08</td>\n",
       "    </tr>\n",
       "    <tr>\n",
       "      <th>max</th>\n",
       "      <td>9.000000</td>\n",
       "      <td>9.000000</td>\n",
       "      <td>9.000000</td>\n",
       "      <td>9.000000</td>\n",
       "      <td>NaN</td>\n",
       "      <td>NaN</td>\n",
       "      <td>NaN</td>\n",
       "      <td>1.800000e+12</td>\n",
       "    </tr>\n",
       "  </tbody>\n",
       "</table>\n",
       "</div>"
      ],
      "text/plain": [
       "            bedrooms     bathrooms       toilets  parking_space  \\\n",
       "count   24326.000000  24326.000000  24326.000000   24326.000000   \n",
       "unique           NaN           NaN           NaN            NaN   \n",
       "top              NaN           NaN           NaN            NaN   \n",
       "freq             NaN           NaN           NaN            NaN   \n",
       "mean        4.338814      4.600798      5.176355       4.041725   \n",
       "std         1.138497      1.163161      1.226253       1.399936   \n",
       "min         1.000000      1.000000      1.000000       1.000000   \n",
       "25%         4.000000      4.000000      5.000000       4.000000   \n",
       "50%         4.000000      5.000000      5.000000       4.000000   \n",
       "75%         5.000000      5.000000      6.000000       4.000000   \n",
       "max         9.000000      9.000000      9.000000       9.000000   \n",
       "\n",
       "                  title   town  state         price  \n",
       "count             24326  24326  24326  2.432600e+04  \n",
       "unique                7    189     25           NaN  \n",
       "top     Detached Duplex  Lekki  Lagos           NaN  \n",
       "freq              13992  10895  18445           NaN  \n",
       "mean                NaN    NaN    NaN  3.013802e+08  \n",
       "std                 NaN    NaN    NaN  1.220403e+10  \n",
       "min                 NaN    NaN    NaN  9.000000e+04  \n",
       "25%                 NaN    NaN    NaN  5.200000e+07  \n",
       "50%                 NaN    NaN    NaN  8.500000e+07  \n",
       "75%                 NaN    NaN    NaN  1.600000e+08  \n",
       "max                 NaN    NaN    NaN  1.800000e+12  "
      ]
     },
     "execution_count": 4,
     "metadata": {},
     "output_type": "execute_result"
    }
   ],
   "source": [
    "df.describe(include=\"all\")"
   ]
  },
  {
   "cell_type": "markdown",
   "metadata": {
    "id": "vLzo1FSDajK4"
   },
   "source": [
    "The summary statistics shows that:\n",
    "- The maximum `bedrooms`, `bathrooms`, `parking_space` and `toilets` are 9.\n",
    "- There are 25 `states` in the dataset.\n",
    "- There are 7 unique `title` in the dataset.\n",
    "- There are 189 `town` in the dataset.\n",
    "- The highest apartment `price` is `1,800,000,000,000` naira.\n",
    "- The lowest apartment `price` is `90,000`"
   ]
  },
  {
   "cell_type": "code",
   "execution_count": 5,
   "metadata": {
    "execution": {
     "iopub.execute_input": "2023-12-15T17:59:54.400681Z",
     "iopub.status.busy": "2023-12-15T17:59:54.400261Z",
     "iopub.status.idle": "2023-12-15T17:59:54.493405Z",
     "shell.execute_reply": "2023-12-15T17:59:54.492092Z",
     "shell.execute_reply.started": "2023-12-15T17:59:54.400627Z"
    },
    "id": "LuRL2e09ajK5",
    "trusted": true
   },
   "outputs": [
    {
     "name": "stdout",
     "output_type": "stream",
     "text": [
      "Abuja: ['Apo', 'Asokoro District', 'Bwari', 'Central Business District', 'Dakibiyu', 'Dakwo', 'Dape', 'Dei-Dei', 'Diplomatic Zones', 'Duboyi', 'Durumi', 'Dutse', 'Gaduwa', 'Galadimawa', 'Garki', 'Gudu', 'Guzape District', 'Gwagwalada', 'Gwarinpa', 'Idu Industrial', 'Jabi', 'Jahi', 'Jikwoyi', 'Kabusa', 'Kado', 'Kafe', 'Kagini', 'Karmo', 'Karsana', 'Karshi', 'Karu', 'Katampe', 'Kaura', 'Kubwa', 'Kuje', 'Kukwaba', 'Kurudu', 'Kyami', 'Life Camp', 'Lokogoma District', 'Lugbe District', 'Mabushi', 'Maitama District', 'Mararaba', 'Mbora (Nbora)', 'Mpape', 'Nyanya', 'Orozo', 'Utako', 'Wumba', 'Wuse', 'Wuse 2', 'Wuye']\n",
      "\n",
      "Lagos: ['Agbara-Igbesa', 'Agege', 'Ajah', 'Alimosho', 'Amuwo Odofin', 'Apapa', 'Ayobo', 'Badagry', 'Egbe', 'Ejigbo', 'Eko Atlantic City', 'Epe', 'Gbagada', 'Ibeju', 'Ibeju Lekki', 'Idimu', 'Ifako-Ijaiye', 'Ijaiye', 'Ijede', 'Ijesha', 'Ikeja', 'Ikorodu', 'Ikotun', 'Ikoyi', 'Ilupeju', 'Imota', 'Ipaja', 'Isheri', 'Isheri North', 'Isolo', 'Ketu', 'Kosofe', 'Lagos Island', 'Lekki', 'Magodo', 'Maryland', 'Mushin', 'Ogudu', 'Ojo', 'Ojodu', 'Ojota', 'Oke-Odo', 'Orile', 'Oshodi', 'Shomolu', 'Surulere', 'Victoria Island (VI)', 'Yaba']\n",
      "\n",
      "Edo: ['Egor', 'Ikpoba Okha', 'Oredo', 'Ovia North-East', 'Uhunmwonde']\n",
      "\n",
      "Ogun: ['Abeokuta North', 'Abeokuta South', 'Ado-Odo/Ota', 'Agbara', 'Arepo', 'Ewekoro', 'Ibafo', 'Ifo', 'Ijebu Ode', 'Ijoko', 'Isheri North', 'KM 46', 'Magboro', 'Mowe Ofada', 'Mowe Town', 'Obafemi Owode', 'Ogijo', 'Oke-Aro', 'Sagamu', 'Sango Ota', 'Simawa', 'Yewa South']\n",
      "\n",
      "Oyo: ['Afijio', 'Akinyele', 'Egbeda', 'Ibadan', 'Ibadan North', 'Ibadan North-East', 'Ibadan North-West', 'Ibadan South-West', 'Ibarapa North', 'Ido', 'Oluyole', 'Oyo West']\n",
      "\n",
      "Imo: ['Ohaji/Egbema', 'Owerri Municipal', 'Owerri North', 'Owerri West']\n",
      "\n",
      "Anambara: ['Agege', 'Ajah', 'Akure', 'Alimosho', 'Arepo', 'Gbagada', 'Guzape District', 'Gwarinpa', 'Ibadan', 'Ibeju Lekki', 'Ifako-Ijaiye', 'Ikeja', 'Ikorodu', 'Ikotun', 'Ikoyi', 'Jabi', 'Karu', 'Katampe', 'Ketu', 'Lekki', 'Lokogoma District', 'Magboro', 'Mbora (Nbora)', 'Mowe Ofada', 'Mowe Town', 'Ojo', 'Owerri Municipal', 'Port Harcourt', 'Shomolu', 'Victoria Island (VI)', 'Yaba']\n",
      "\n",
      "Rivers: ['Eleme', 'Ikwerre', 'Obio-Akpor', 'Oyigbo', 'Port Harcourt']\n",
      "\n",
      "Enugu: ['Enugu']\n",
      "\n",
      "Kaduna: ['Chikun', 'Kaduna North', 'Kaduna South']\n",
      "\n",
      "Kwara: ['Ilorin East', 'Ilorin South', 'Ilorin West']\n",
      "\n",
      "Nasarawa: ['Karu', 'Keffi', 'Nasarawa']\n",
      "\n",
      "Abia: ['Aba', 'Umuahia']\n",
      "\n",
      "Delta: ['Abraka', 'Aniocha South', 'Asaba', 'Ethiope West', 'Okpe', 'Udu', 'Ughelli North', 'Ughelli South', 'Uvwie', 'Warri']\n",
      "\n",
      "Akwa Ibom: ['Eket', 'Ikot Ekpene', 'Uyo']\n",
      "\n",
      "Osun: ['Ede South', 'Osogbo']\n",
      "\n",
      "Ekiti: ['Ado-Ekiti']\n",
      "\n",
      "Cross River: ['Calabar']\n",
      "\n",
      "Kogi: ['Dekina', 'Lokoja', 'Okene']\n",
      "\n",
      "Plateau: ['Jos North', 'Jos South']\n",
      "\n",
      "Kano: ['Kano', 'Nassarawa']\n",
      "\n",
      "Katsina: ['Danja', 'Kusada']\n",
      "\n",
      "Bayelsa: ['Yenagoa']\n",
      "\n",
      "Borno: ['Guzamala']\n",
      "\n",
      "Niger: ['Paikoro']\n",
      "\n"
     ]
    }
   ],
   "source": [
    "#checking the unique towns in each states\n",
    "list_state = df.state.unique()\n",
    "\n",
    "for state in list_state:\n",
    "    town_list = df[df[\"state\"]==state].groupby(\"town\")[\"price\"].mean().index.to_list()\n",
    "    print(f\"{state}: {town_list}\\n\")"
   ]
  },
  {
   "cell_type": "markdown",
   "metadata": {
    "id": "egjIybnjajK6"
   },
   "source": [
    "Some towns in other states are wrongly assigned to Anambra State.\n",
    "- *Imo* = [ 'Owerri Municipal']\n",
    "- *Rivers* = ['Port Harcourt']\n",
    "- *Lagos* = ['Agege', 'Ajah','Alimosho','Gbagada','Ibeju Lekki', 'Ifako-Ijaiye', 'Ikeja', 'Ikorodu', 'Ikotun', 'Ikoyi', 'Ketu', 'Lekki','Ojo', 'Shomolu', 'Victoria Island (VI)', 'Yaba']\n",
    "- *Ogun* = ['Arepo', 'Mbora (Nbora)', 'Mowe Ofada', 'Magboro', 'Mowe Town']\n",
    "- *Kwara* = ['Jabi']\n",
    "- *Oyo* = [ 'Ibadan']\n",
    "-*Ondo* = [ 'Akure']\n",
    "- *Abuja* = ['Guzape District', 'Gwarinpa', 'Katampe', 'Lokogoma District']\n",
    "- *Nasarawa* = ['Karu']\n",
    "\n",
    "Lets define a function `reassign_town` to reassign the towns to their corresponding states."
   ]
  },
  {
   "cell_type": "code",
   "execution_count": 6,
   "metadata": {
    "execution": {
     "iopub.execute_input": "2023-12-15T18:01:14.490255Z",
     "iopub.status.busy": "2023-12-15T18:01:14.489854Z",
     "iopub.status.idle": "2023-12-15T18:01:36.23117Z",
     "shell.execute_reply": "2023-12-15T18:01:36.229936Z",
     "shell.execute_reply.started": "2023-12-15T18:01:14.490226Z"
    },
    "id": "0qsT5OwIajK7",
    "trusted": true
   },
   "outputs": [
    {
     "name": "stdout",
     "output_type": "stream",
     "text": [
      "Abuja: ['Apo', 'Asokoro District', 'Bwari', 'Central Business District', 'Dakibiyu', 'Dakwo', 'Dape', 'Dei-Dei', 'Diplomatic Zones', 'Duboyi', 'Durumi', 'Dutse', 'Gaduwa', 'Galadimawa', 'Garki', 'Gudu', 'Guzape District', 'Gwagwalada', 'Gwarinpa', 'Idu Industrial', 'Jabi', 'Jahi', 'Jikwoyi', 'Kabusa', 'Kado', 'Kafe', 'Kagini', 'Karmo', 'Karsana', 'Karshi', 'Karu', 'Katampe', 'Kaura', 'Kubwa', 'Kuje', 'Kukwaba', 'Kurudu', 'Kyami', 'Life Camp', 'Lokogoma District', 'Lugbe District', 'Mabushi', 'Maitama District', 'Mararaba', 'Mbora (Nbora)', 'Mpape', 'Nyanya', 'Orozo', 'Utako', 'Wumba', 'Wuse', 'Wuse 2', 'Wuye']\n",
      "\n",
      "Lagos: ['Agbara-Igbesa', 'Agege', 'Ajah', 'Alimosho', 'Amuwo Odofin', 'Apapa', 'Ayobo', 'Badagry', 'Egbe', 'Ejigbo', 'Eko Atlantic City', 'Epe', 'Gbagada', 'Ibeju', 'Ibeju Lekki', 'Idimu', 'Ifako-Ijaiye', 'Ijaiye', 'Ijede', 'Ijesha', 'Ikeja', 'Ikorodu', 'Ikotun', 'Ikoyi', 'Ilupeju', 'Imota', 'Ipaja', 'Isheri', 'Isheri North', 'Isolo', 'Ketu', 'Kosofe', 'Lagos Island', 'Lekki', 'Magodo', 'Maryland', 'Mushin', 'Ogudu', 'Ojo', 'Ojodu', 'Ojota', 'Oke-Odo', 'Orile', 'Oshodi', 'Shomolu', 'Surulere', 'Victoria Island (VI)', 'Yaba']\n",
      "\n",
      "Edo: ['Egor', 'Ikpoba Okha', 'Oredo', 'Ovia North-East', 'Uhunmwonde']\n",
      "\n",
      "Ogun: ['Abeokuta North', 'Abeokuta South', 'Ado-Odo/Ota', 'Agbara', 'Arepo', 'Ewekoro', 'Ibafo', 'Ifo', 'Ijebu Ode', 'Ijoko', 'Isheri North', 'KM 46', 'Magboro', 'Mbora (Nbora)', 'Mowe Ofada', 'Mowe Town', 'Obafemi Owode', 'Ogijo', 'Oke-Aro', 'Sagamu', 'Sango Ota', 'Simawa', 'Yewa South']\n",
      "\n",
      "Oyo: ['Afijio', 'Akinyele', 'Egbeda', 'Ibadan', 'Ibadan North', 'Ibadan North-East', 'Ibadan North-West', 'Ibadan South-West', 'Ibarapa North', 'Ido', 'Oluyole', 'Oyo West']\n",
      "\n",
      "Imo: ['Ohaji/Egbema', 'Owerri Municipal', 'Owerri North', 'Owerri West']\n",
      "\n",
      "Rivers: ['Eleme', 'Ikwerre', 'Obio-Akpor', 'Oyigbo', 'Port Harcourt']\n",
      "\n",
      "Enugu: ['Enugu']\n",
      "\n",
      "Kaduna: ['Chikun', 'Kaduna North', 'Kaduna South']\n",
      "\n",
      "Kwara: ['Ilorin East', 'Ilorin South', 'Ilorin West', 'Jabi']\n",
      "\n",
      "Nasarawa: ['Karu', 'Keffi', 'Nasarawa']\n",
      "\n",
      "Abia: ['Aba', 'Umuahia']\n",
      "\n",
      "Delta: ['Abraka', 'Aniocha South', 'Asaba', 'Ethiope West', 'Okpe', 'Udu', 'Ughelli North', 'Ughelli South', 'Uvwie', 'Warri']\n",
      "\n",
      "Akwa Ibom: ['Eket', 'Ikot Ekpene', 'Uyo']\n",
      "\n",
      "Osun: ['Ede South', 'Osogbo']\n",
      "\n",
      "Ekiti: ['Ado-Ekiti']\n",
      "\n",
      "Cross River: ['Calabar']\n",
      "\n",
      "Kogi: ['Dekina', 'Lokoja', 'Okene']\n",
      "\n",
      "Plateau: ['Jos North', 'Jos South']\n",
      "\n",
      "Ondo: ['Akure']\n",
      "\n",
      "Kano: ['Kano', 'Nassarawa']\n",
      "\n",
      "Katsina: ['Danja', 'Kusada']\n",
      "\n",
      "Bayelsa: ['Yenagoa']\n",
      "\n",
      "Borno: ['Guzamala']\n",
      "\n",
      "Niger: ['Paikoro']\n",
      "\n"
     ]
    }
   ],
   "source": [
    "#list of the town and their corresponding states\n",
    "imo_town_in_anambra = [ 'Owerri Municipal']\n",
    "river_town_in_anambra = ['Port Harcourt']\n",
    "lagos_town_in_anambra = ['Agege', 'Ajah','Alimosho','Gbagada','Ibeju Lekki', 'Ifako-Ijaiye', 'Ikeja', 'Ikorodu', 'Ikotun', 'Ikoyi',\n",
    "                         'Ketu', 'Lekki', 'Ojo', 'Shomolu', 'Victoria Island (VI)', 'Yaba']\n",
    "ogun_town_in_anambra = ['Arepo', 'Mbora (Nbora)', 'Mowe Ofada', 'Magboro', 'Mowe Town']\n",
    "kwara_town_in_anambra = ['Jabi']\n",
    "oyo_town_in_anambra = [ 'Ibadan']\n",
    "ondo_town_in_anambra = [ 'Akure']\n",
    "abuja_town_in_anambra = ['Guzape District', 'Gwarinpa', 'Katampe', 'Lokogoma District']\n",
    "nasarawa_town_in_anambra = ['Karu']\n",
    "\n",
    "dict_anambra = {\"Lagos\":lagos_town_in_anambra, \"Rivers\": river_town_in_anambra, \"Imo\":imo_town_in_anambra, \"Ogun\": ogun_town_in_anambra,\n",
    "         \"Kwara\": kwara_town_in_anambra, \"Oyo\": oyo_town_in_anambra, \"Ondo\": ondo_town_in_anambra, \"Abuja\":abuja_town_in_anambra,\n",
    "         \"Nasarawa\": nasarawa_town_in_anambra}\n",
    "\n",
    "#defining the function that reassigns the towns to their corresponding states\n",
    "def reassign_town(dict_state, state):\n",
    "    for each_state, list_towns in dict_state.items():\n",
    "        index = []\n",
    "        for i in df.index:\n",
    "            each_df_row = df.loc[i,:]\n",
    "            if (each_df_row[\"town\"] in list_towns) and (each_df_row[\"state\"] == state):\n",
    "                index.append(i)\n",
    "        df.loc[index,\"state\"] = df.loc[index,\"state\"].replace({state:each_state})\n",
    "\n",
    "\n",
    "reassign_town(dict_anambra, \"Anambara\")\n",
    "\n",
    "#checking the unique towns in each states\n",
    "list_state = df.state.unique()\n",
    "\n",
    "for state in list_state:\n",
    "    town_list = df[df[\"state\"]==state].groupby(\"town\")[\"price\"].mean().index.to_list()\n",
    "    print(f\"{state}: {town_list}\\n\")"
   ]
  },
  {
   "cell_type": "code",
   "execution_count": 7,
   "metadata": {
    "execution": {
     "iopub.execute_input": "2023-12-15T18:11:39.682616Z",
     "iopub.status.busy": "2023-12-15T18:11:39.682181Z",
     "iopub.status.idle": "2023-12-15T18:11:39.701039Z",
     "shell.execute_reply": "2023-12-15T18:11:39.699731Z",
     "shell.execute_reply.started": "2023-12-15T18:11:39.682582Z"
    },
    "id": "FoGo2yIwajK9",
    "trusted": true
   },
   "outputs": [
    {
     "name": "stdout",
     "output_type": "stream",
     "text": [
      "['Abuja' 'Lagos' 'Edo' 'Ogun' 'Oyo' 'Imo' 'Rivers' 'Enugu' 'Kaduna'\n",
      " 'Kwara' 'Nasarawa' 'Abia' 'Delta' 'Akwa Ibom' 'Osun' 'Ekiti'\n",
      " 'Cross River' 'Kogi' 'Plateau' 'Ondo' 'Kano' 'Katsina' 'Bayelsa' 'Borno'\n",
      " 'Niger']\n",
      "<class 'pandas.core.frame.DataFrame'>\n",
      "RangeIndex: 24326 entries, 0 to 24325\n",
      "Data columns (total 8 columns):\n",
      " #   Column         Non-Null Count  Dtype  \n",
      "---  ------         --------------  -----  \n",
      " 0   bedrooms       24326 non-null  float64\n",
      " 1   bathrooms      24326 non-null  float64\n",
      " 2   toilets        24326 non-null  float64\n",
      " 3   parking_space  24326 non-null  float64\n",
      " 4   title          24326 non-null  object \n",
      " 5   town           24326 non-null  object \n",
      " 6   state          24326 non-null  object \n",
      " 7   price          24326 non-null  float64\n",
      "dtypes: float64(5), object(3)\n",
      "memory usage: 1.5+ MB\n"
     ]
    }
   ],
   "source": [
    "print(df.state.unique())\n",
    "df.info()"
   ]
  },
  {
   "cell_type": "markdown",
   "metadata": {
    "id": "M60LPXWsajK-"
   },
   "source": [
    "The function works well, no missing data and now `Kwara` has `Jabi`as one of its towns."
   ]
  },
  {
   "cell_type": "markdown",
   "metadata": {
    "id": "JiMAV7lgajK_"
   },
   "source": [
    "#### Duplicated Rows"
   ]
  },
  {
   "cell_type": "code",
   "execution_count": 8,
   "metadata": {
    "execution": {
     "iopub.execute_input": "2023-12-15T18:12:57.08965Z",
     "iopub.status.busy": "2023-12-15T18:12:57.089247Z",
     "iopub.status.idle": "2023-12-15T18:12:57.119041Z",
     "shell.execute_reply": "2023-12-15T18:12:57.118046Z",
     "shell.execute_reply.started": "2023-12-15T18:12:57.089607Z"
    },
    "id": "egyrcoS1ajLA",
    "trusted": true
   },
   "outputs": [
    {
     "name": "stdout",
     "output_type": "stream",
     "text": [
      "There are 10558 duplicated rows in the dataset\n",
      "Shape with duplicates: (24326, 8)\n",
      "Shape without duplicates: (13768, 8)\n"
     ]
    }
   ],
   "source": [
    "# How many duplicates are there in the dataset\n",
    "print(f\"There are {df.duplicated().sum()} duplicated rows in the dataset\")\n",
    "\n",
    "\n",
    "print(f\"Shape with duplicates: {df.shape}\")\n",
    "\n",
    "# Removing duplicates\n",
    "df_dup = df.copy().drop_duplicates()\n",
    "print(f\"Shape without duplicates: {df_dup.shape}\")"
   ]
  },
  {
   "cell_type": "markdown",
   "metadata": {
    "id": "-MF80KcrajLB"
   },
   "source": [
    "#### Exploring outliers: Bedrooms vs Toilets"
   ]
  },
  {
   "cell_type": "code",
   "execution_count": 9,
   "metadata": {
    "execution": {
     "iopub.execute_input": "2023-12-15T18:13:20.372174Z",
     "iopub.status.busy": "2023-12-15T18:13:20.371061Z",
     "iopub.status.idle": "2023-12-15T18:13:20.391119Z",
     "shell.execute_reply": "2023-12-15T18:13:20.389957Z",
     "shell.execute_reply.started": "2023-12-15T18:13:20.372125Z"
    },
    "id": "Nxsctn4_ajLB",
    "trusted": true
   },
   "outputs": [
    {
     "data": {
      "text/html": [
       "<div>\n",
       "<style scoped>\n",
       "    .dataframe tbody tr th:only-of-type {\n",
       "        vertical-align: middle;\n",
       "    }\n",
       "\n",
       "    .dataframe tbody tr th {\n",
       "        vertical-align: top;\n",
       "    }\n",
       "\n",
       "    .dataframe thead th {\n",
       "        text-align: right;\n",
       "    }\n",
       "</style>\n",
       "<table border=\"1\" class=\"dataframe\">\n",
       "  <thead>\n",
       "    <tr style=\"text-align: right;\">\n",
       "      <th></th>\n",
       "      <th>bedrooms</th>\n",
       "      <th>bathrooms</th>\n",
       "      <th>toilets</th>\n",
       "      <th>parking_space</th>\n",
       "      <th>title</th>\n",
       "      <th>town</th>\n",
       "      <th>state</th>\n",
       "      <th>price</th>\n",
       "    </tr>\n",
       "  </thead>\n",
       "  <tbody>\n",
       "    <tr>\n",
       "      <th>126</th>\n",
       "      <td>2.0</td>\n",
       "      <td>5.0</td>\n",
       "      <td>9.0</td>\n",
       "      <td>4.0</td>\n",
       "      <td>Detached Bungalow</td>\n",
       "      <td>Ibeju Lekki</td>\n",
       "      <td>Lagos</td>\n",
       "      <td>3.000000e+07</td>\n",
       "    </tr>\n",
       "    <tr>\n",
       "      <th>5574</th>\n",
       "      <td>3.0</td>\n",
       "      <td>9.0</td>\n",
       "      <td>9.0</td>\n",
       "      <td>6.0</td>\n",
       "      <td>Block of Flats</td>\n",
       "      <td>Agege</td>\n",
       "      <td>Lagos</td>\n",
       "      <td>3.500000e+07</td>\n",
       "    </tr>\n",
       "    <tr>\n",
       "      <th>6566</th>\n",
       "      <td>1.0</td>\n",
       "      <td>8.0</td>\n",
       "      <td>9.0</td>\n",
       "      <td>4.0</td>\n",
       "      <td>Detached Duplex</td>\n",
       "      <td>Victoria Island (VI)</td>\n",
       "      <td>Lagos</td>\n",
       "      <td>1.400000e+09</td>\n",
       "    </tr>\n",
       "    <tr>\n",
       "      <th>9163</th>\n",
       "      <td>1.0</td>\n",
       "      <td>9.0</td>\n",
       "      <td>9.0</td>\n",
       "      <td>4.0</td>\n",
       "      <td>Detached Bungalow</td>\n",
       "      <td>Oredo</td>\n",
       "      <td>Edo</td>\n",
       "      <td>3.500000e+07</td>\n",
       "    </tr>\n",
       "    <tr>\n",
       "      <th>13501</th>\n",
       "      <td>1.0</td>\n",
       "      <td>9.0</td>\n",
       "      <td>9.0</td>\n",
       "      <td>4.0</td>\n",
       "      <td>Block of Flats</td>\n",
       "      <td>Ibadan</td>\n",
       "      <td>Oyo</td>\n",
       "      <td>1.800000e+07</td>\n",
       "    </tr>\n",
       "  </tbody>\n",
       "</table>\n",
       "</div>"
      ],
      "text/plain": [
       "       bedrooms  bathrooms  toilets  parking_space              title  \\\n",
       "126         2.0        5.0      9.0            4.0  Detached Bungalow   \n",
       "5574        3.0        9.0      9.0            6.0     Block of Flats   \n",
       "6566        1.0        8.0      9.0            4.0    Detached Duplex   \n",
       "9163        1.0        9.0      9.0            4.0  Detached Bungalow   \n",
       "13501       1.0        9.0      9.0            4.0     Block of Flats   \n",
       "\n",
       "                       town  state         price  \n",
       "126             Ibeju Lekki  Lagos  3.000000e+07  \n",
       "5574                  Agege  Lagos  3.500000e+07  \n",
       "6566   Victoria Island (VI)  Lagos  1.400000e+09  \n",
       "9163                  Oredo    Edo  3.500000e+07  \n",
       "13501                Ibadan    Oyo  1.800000e+07  "
      ]
     },
     "execution_count": 9,
     "metadata": {},
     "output_type": "execute_result"
    }
   ],
   "source": [
    "# apartments with less than 4 bedrooms with 9 toilets\n",
    "df_dup[(df_dup['toilets'] == 9) & (df_dup[\"bedrooms\"] < 4) ].head()"
   ]
  },
  {
   "cell_type": "markdown",
   "metadata": {
    "id": "UM7udOHKajLC"
   },
   "source": [
    "An housing apartment with 3 or less bedrooms having 9 toilets is too extreme."
   ]
  },
  {
   "cell_type": "code",
   "execution_count": 10,
   "metadata": {
    "execution": {
     "iopub.execute_input": "2023-12-15T18:13:32.901056Z",
     "iopub.status.busy": "2023-12-15T18:13:32.900596Z",
     "iopub.status.idle": "2023-12-15T18:13:32.912491Z",
     "shell.execute_reply": "2023-12-15T18:13:32.911343Z",
     "shell.execute_reply.started": "2023-12-15T18:13:32.901022Z"
    },
    "id": "2HAwxR4oajLC",
    "trusted": true
   },
   "outputs": [
    {
     "data": {
      "text/plain": [
       "(13759, 8)"
      ]
     },
     "execution_count": 10,
     "metadata": {},
     "output_type": "execute_result"
    }
   ],
   "source": [
    "# dropping these extreme rows [126, 5574, 6566, 9163, 13501, 14846, 18542, 22614, 23141]\n",
    "df_dup.drop(df_dup[(df_dup['toilets'] == 9) & (df_dup[\"bedrooms\"] < 4)].index.to_list(), axis=0, inplace=True)\n",
    "df_dup.shape"
   ]
  },
  {
   "cell_type": "code",
   "execution_count": 11,
   "metadata": {
    "execution": {
     "iopub.execute_input": "2023-12-15T18:16:08.132022Z",
     "iopub.status.busy": "2023-12-15T18:16:08.131022Z",
     "iopub.status.idle": "2023-12-15T18:16:08.159404Z",
     "shell.execute_reply": "2023-12-15T18:16:08.158695Z",
     "shell.execute_reply.started": "2023-12-15T18:16:08.131983Z"
    },
    "id": "-c9bgIPaajLD",
    "trusted": true
   },
   "outputs": [
    {
     "data": {
      "text/html": [
       "<div>\n",
       "<style scoped>\n",
       "    .dataframe tbody tr th:only-of-type {\n",
       "        vertical-align: middle;\n",
       "    }\n",
       "\n",
       "    .dataframe tbody tr th {\n",
       "        vertical-align: top;\n",
       "    }\n",
       "\n",
       "    .dataframe thead th {\n",
       "        text-align: right;\n",
       "    }\n",
       "</style>\n",
       "<table border=\"1\" class=\"dataframe\">\n",
       "  <thead>\n",
       "    <tr style=\"text-align: right;\">\n",
       "      <th></th>\n",
       "      <th>bedrooms</th>\n",
       "      <th>bathrooms</th>\n",
       "      <th>toilets</th>\n",
       "      <th>parking_space</th>\n",
       "      <th>title</th>\n",
       "      <th>town</th>\n",
       "      <th>state</th>\n",
       "      <th>price</th>\n",
       "    </tr>\n",
       "  </thead>\n",
       "  <tbody>\n",
       "    <tr>\n",
       "      <th>2525</th>\n",
       "      <td>2.0</td>\n",
       "      <td>8.0</td>\n",
       "      <td>8.0</td>\n",
       "      <td>4.0</td>\n",
       "      <td>Block of Flats</td>\n",
       "      <td>Ajah</td>\n",
       "      <td>Lagos</td>\n",
       "      <td>45000000.0</td>\n",
       "    </tr>\n",
       "    <tr>\n",
       "      <th>4169</th>\n",
       "      <td>1.0</td>\n",
       "      <td>9.0</td>\n",
       "      <td>8.0</td>\n",
       "      <td>1.0</td>\n",
       "      <td>Detached Duplex</td>\n",
       "      <td>Ibadan</td>\n",
       "      <td>Oyo</td>\n",
       "      <td>120000000.0</td>\n",
       "    </tr>\n",
       "    <tr>\n",
       "      <th>4176</th>\n",
       "      <td>2.0</td>\n",
       "      <td>7.0</td>\n",
       "      <td>8.0</td>\n",
       "      <td>7.0</td>\n",
       "      <td>Detached Duplex</td>\n",
       "      <td>Jos South</td>\n",
       "      <td>Plateau</td>\n",
       "      <td>500000.0</td>\n",
       "    </tr>\n",
       "    <tr>\n",
       "      <th>13626</th>\n",
       "      <td>1.0</td>\n",
       "      <td>6.0</td>\n",
       "      <td>8.0</td>\n",
       "      <td>4.0</td>\n",
       "      <td>Detached Bungalow</td>\n",
       "      <td>Ikorodu</td>\n",
       "      <td>Lagos</td>\n",
       "      <td>45000000.0</td>\n",
       "    </tr>\n",
       "    <tr>\n",
       "      <th>14047</th>\n",
       "      <td>1.0</td>\n",
       "      <td>8.0</td>\n",
       "      <td>8.0</td>\n",
       "      <td>6.0</td>\n",
       "      <td>Semi Detached Duplex</td>\n",
       "      <td>Enugu</td>\n",
       "      <td>Enugu</td>\n",
       "      <td>40000000.0</td>\n",
       "    </tr>\n",
       "  </tbody>\n",
       "</table>\n",
       "</div>"
      ],
      "text/plain": [
       "       bedrooms  bathrooms  toilets  parking_space                 title  \\\n",
       "2525        2.0        8.0      8.0            4.0        Block of Flats   \n",
       "4169        1.0        9.0      8.0            1.0       Detached Duplex   \n",
       "4176        2.0        7.0      8.0            7.0       Detached Duplex   \n",
       "13626       1.0        6.0      8.0            4.0     Detached Bungalow   \n",
       "14047       1.0        8.0      8.0            6.0  Semi Detached Duplex   \n",
       "\n",
       "            town    state        price  \n",
       "2525        Ajah    Lagos   45000000.0  \n",
       "4169      Ibadan      Oyo  120000000.0  \n",
       "4176   Jos South  Plateau     500000.0  \n",
       "13626    Ikorodu    Lagos   45000000.0  \n",
       "14047      Enugu    Enugu   40000000.0  "
      ]
     },
     "execution_count": 11,
     "metadata": {},
     "output_type": "execute_result"
    }
   ],
   "source": [
    "# apartments with less than 4 bedrooms with 8 toilets\n",
    "df_dup[(df_dup['toilets'] == 8) & (df_dup[\"bedrooms\"] < 3) ].head()"
   ]
  },
  {
   "cell_type": "code",
   "execution_count": 12,
   "metadata": {
    "execution": {
     "iopub.execute_input": "2023-12-15T18:16:27.974355Z",
     "iopub.status.busy": "2023-12-15T18:16:27.973903Z",
     "iopub.status.idle": "2023-12-15T18:16:27.987572Z",
     "shell.execute_reply": "2023-12-15T18:16:27.986382Z",
     "shell.execute_reply.started": "2023-12-15T18:16:27.974321Z"
    },
    "id": "6d7XUl2iajLD",
    "trusted": true
   },
   "outputs": [
    {
     "data": {
      "text/plain": [
       "(13746, 8)"
      ]
     },
     "execution_count": 12,
     "metadata": {},
     "output_type": "execute_result"
    }
   ],
   "source": [
    "# dropping these extreme rows [ 2525,  4169,  4176, 13626, 14047, 14263, 14675, 15333, 15965, 16971, 18217, 20737, 20947, 21264]\n",
    "df_dup.drop(df_dup[(df_dup['toilets'] == 8) & (df_dup[\"bedrooms\"] < 3) ].index.to_list(), axis=0, inplace=True)\n",
    "df_dup.shape"
   ]
  },
  {
   "cell_type": "code",
   "execution_count": 13,
   "metadata": {
    "execution": {
     "iopub.execute_input": "2023-12-15T18:16:39.281904Z",
     "iopub.status.busy": "2023-12-15T18:16:39.2815Z",
     "iopub.status.idle": "2023-12-15T18:16:39.299373Z",
     "shell.execute_reply": "2023-12-15T18:16:39.298462Z",
     "shell.execute_reply.started": "2023-12-15T18:16:39.281874Z"
    },
    "id": "GiCskwk_ajLE",
    "trusted": true
   },
   "outputs": [
    {
     "data": {
      "text/html": [
       "<div>\n",
       "<style scoped>\n",
       "    .dataframe tbody tr th:only-of-type {\n",
       "        vertical-align: middle;\n",
       "    }\n",
       "\n",
       "    .dataframe tbody tr th {\n",
       "        vertical-align: top;\n",
       "    }\n",
       "\n",
       "    .dataframe thead th {\n",
       "        text-align: right;\n",
       "    }\n",
       "</style>\n",
       "<table border=\"1\" class=\"dataframe\">\n",
       "  <thead>\n",
       "    <tr style=\"text-align: right;\">\n",
       "      <th></th>\n",
       "      <th>bedrooms</th>\n",
       "      <th>bathrooms</th>\n",
       "      <th>toilets</th>\n",
       "      <th>parking_space</th>\n",
       "      <th>title</th>\n",
       "      <th>town</th>\n",
       "      <th>state</th>\n",
       "      <th>price</th>\n",
       "    </tr>\n",
       "  </thead>\n",
       "  <tbody>\n",
       "    <tr>\n",
       "      <th>14917</th>\n",
       "      <td>1.0</td>\n",
       "      <td>7.0</td>\n",
       "      <td>7.0</td>\n",
       "      <td>1.0</td>\n",
       "      <td>Terraced Bungalow</td>\n",
       "      <td>Alimosho</td>\n",
       "      <td>Lagos</td>\n",
       "      <td>80000000.0</td>\n",
       "    </tr>\n",
       "  </tbody>\n",
       "</table>\n",
       "</div>"
      ],
      "text/plain": [
       "       bedrooms  bathrooms  toilets  parking_space              title  \\\n",
       "14917       1.0        7.0      7.0            1.0  Terraced Bungalow   \n",
       "\n",
       "           town  state       price  \n",
       "14917  Alimosho  Lagos  80000000.0  "
      ]
     },
     "execution_count": 13,
     "metadata": {},
     "output_type": "execute_result"
    }
   ],
   "source": [
    "# apartments with less than 4 bedrooms with 8 toilets\n",
    "df[(df['toilets'] == 7) & (df[\"bedrooms\"] < 3) ].head()"
   ]
  },
  {
   "cell_type": "code",
   "execution_count": 14,
   "metadata": {
    "execution": {
     "iopub.execute_input": "2023-12-15T18:16:57.308689Z",
     "iopub.status.busy": "2023-12-15T18:16:57.30826Z",
     "iopub.status.idle": "2023-12-15T18:16:57.320107Z",
     "shell.execute_reply": "2023-12-15T18:16:57.318935Z",
     "shell.execute_reply.started": "2023-12-15T18:16:57.308653Z"
    },
    "id": "MN7ISsiXajLE",
    "trusted": true
   },
   "outputs": [
    {
     "data": {
      "text/plain": [
       "(13745, 8)"
      ]
     },
     "execution_count": 14,
     "metadata": {},
     "output_type": "execute_result"
    }
   ],
   "source": [
    "# dropping this extreme row 14917\n",
    "df_dup.drop(df_dup[(df_dup['toilets'] ==7) & (df_dup[\"bedrooms\"] < 3) ].index.to_list(), axis=0, inplace=True)\n",
    "df_dup.shape"
   ]
  },
  {
   "cell_type": "code",
   "execution_count": 15,
   "metadata": {
    "execution": {
     "iopub.execute_input": "2023-12-15T18:17:06.782351Z",
     "iopub.status.busy": "2023-12-15T18:17:06.781967Z",
     "iopub.status.idle": "2023-12-15T18:17:06.799585Z",
     "shell.execute_reply": "2023-12-15T18:17:06.798337Z",
     "shell.execute_reply.started": "2023-12-15T18:17:06.782322Z"
    },
    "id": "yTHnrm_OajLF",
    "trusted": true
   },
   "outputs": [
    {
     "data": {
      "text/html": [
       "<div>\n",
       "<style scoped>\n",
       "    .dataframe tbody tr th:only-of-type {\n",
       "        vertical-align: middle;\n",
       "    }\n",
       "\n",
       "    .dataframe tbody tr th {\n",
       "        vertical-align: top;\n",
       "    }\n",
       "\n",
       "    .dataframe thead th {\n",
       "        text-align: right;\n",
       "    }\n",
       "</style>\n",
       "<table border=\"1\" class=\"dataframe\">\n",
       "  <thead>\n",
       "    <tr style=\"text-align: right;\">\n",
       "      <th></th>\n",
       "      <th>bedrooms</th>\n",
       "      <th>bathrooms</th>\n",
       "      <th>toilets</th>\n",
       "      <th>parking_space</th>\n",
       "      <th>title</th>\n",
       "      <th>town</th>\n",
       "      <th>state</th>\n",
       "      <th>price</th>\n",
       "    </tr>\n",
       "  </thead>\n",
       "  <tbody>\n",
       "    <tr>\n",
       "      <th>7287</th>\n",
       "      <td>1.0</td>\n",
       "      <td>6.0</td>\n",
       "      <td>6.0</td>\n",
       "      <td>7.0</td>\n",
       "      <td>Detached Duplex</td>\n",
       "      <td>Lugbe District</td>\n",
       "      <td>Abuja</td>\n",
       "      <td>38000000.0</td>\n",
       "    </tr>\n",
       "  </tbody>\n",
       "</table>\n",
       "</div>"
      ],
      "text/plain": [
       "      bedrooms  bathrooms  toilets  parking_space            title  \\\n",
       "7287       1.0        6.0      6.0            7.0  Detached Duplex   \n",
       "\n",
       "                town  state       price  \n",
       "7287  Lugbe District  Abuja  38000000.0  "
      ]
     },
     "execution_count": 15,
     "metadata": {},
     "output_type": "execute_result"
    }
   ],
   "source": [
    "# apartments with less than 4 bedrooms with 8 toilets\n",
    "df_dup[(df_dup['toilets'] == 6) & (df_dup[\"bedrooms\"] < 2)].head()"
   ]
  },
  {
   "cell_type": "code",
   "execution_count": 16,
   "metadata": {
    "execution": {
     "iopub.execute_input": "2023-12-15T18:17:15.91203Z",
     "iopub.status.busy": "2023-12-15T18:17:15.911612Z",
     "iopub.status.idle": "2023-12-15T18:17:15.924219Z",
     "shell.execute_reply": "2023-12-15T18:17:15.923215Z",
     "shell.execute_reply.started": "2023-12-15T18:17:15.911999Z"
    },
    "id": "fKDU4iBvajLF",
    "trusted": true
   },
   "outputs": [
    {
     "data": {
      "text/plain": [
       "(13744, 8)"
      ]
     },
     "execution_count": 16,
     "metadata": {},
     "output_type": "execute_result"
    }
   ],
   "source": [
    "# dropping this extreme row 7287\n",
    "df_dup.drop(df_dup[(df_dup['toilets'] == 6) & (df_dup[\"bedrooms\"] < 2) ].index.to_list(), axis=0, inplace=True)\n",
    "df_dup.shape"
   ]
  },
  {
   "cell_type": "code",
   "execution_count": 17,
   "metadata": {
    "execution": {
     "iopub.execute_input": "2023-12-15T18:17:28.921887Z",
     "iopub.status.busy": "2023-12-15T18:17:28.921116Z",
     "iopub.status.idle": "2023-12-15T18:17:28.939051Z",
     "shell.execute_reply": "2023-12-15T18:17:28.937794Z",
     "shell.execute_reply.started": "2023-12-15T18:17:28.921849Z"
    },
    "id": "DLtojOaFajLG",
    "trusted": true
   },
   "outputs": [
    {
     "data": {
      "text/html": [
       "<div>\n",
       "<style scoped>\n",
       "    .dataframe tbody tr th:only-of-type {\n",
       "        vertical-align: middle;\n",
       "    }\n",
       "\n",
       "    .dataframe tbody tr th {\n",
       "        vertical-align: top;\n",
       "    }\n",
       "\n",
       "    .dataframe thead th {\n",
       "        text-align: right;\n",
       "    }\n",
       "</style>\n",
       "<table border=\"1\" class=\"dataframe\">\n",
       "  <thead>\n",
       "    <tr style=\"text-align: right;\">\n",
       "      <th></th>\n",
       "      <th>bedrooms</th>\n",
       "      <th>bathrooms</th>\n",
       "      <th>toilets</th>\n",
       "      <th>parking_space</th>\n",
       "      <th>title</th>\n",
       "      <th>town</th>\n",
       "      <th>state</th>\n",
       "      <th>price</th>\n",
       "    </tr>\n",
       "  </thead>\n",
       "  <tbody>\n",
       "    <tr>\n",
       "      <th>183</th>\n",
       "      <td>9.0</td>\n",
       "      <td>9.0</td>\n",
       "      <td>1.0</td>\n",
       "      <td>1.0</td>\n",
       "      <td>Detached Duplex</td>\n",
       "      <td>Isolo</td>\n",
       "      <td>Lagos</td>\n",
       "      <td>70000000.0</td>\n",
       "    </tr>\n",
       "    <tr>\n",
       "      <th>366</th>\n",
       "      <td>9.0</td>\n",
       "      <td>9.0</td>\n",
       "      <td>1.0</td>\n",
       "      <td>8.0</td>\n",
       "      <td>Detached Duplex</td>\n",
       "      <td>Lekki</td>\n",
       "      <td>Lagos</td>\n",
       "      <td>250000000.0</td>\n",
       "    </tr>\n",
       "    <tr>\n",
       "      <th>648</th>\n",
       "      <td>9.0</td>\n",
       "      <td>9.0</td>\n",
       "      <td>1.0</td>\n",
       "      <td>1.0</td>\n",
       "      <td>Detached Duplex</td>\n",
       "      <td>Maitama District</td>\n",
       "      <td>Abuja</td>\n",
       "      <td>700000000.0</td>\n",
       "    </tr>\n",
       "    <tr>\n",
       "      <th>728</th>\n",
       "      <td>9.0</td>\n",
       "      <td>9.0</td>\n",
       "      <td>1.0</td>\n",
       "      <td>4.0</td>\n",
       "      <td>Detached Duplex</td>\n",
       "      <td>Surulere</td>\n",
       "      <td>Lagos</td>\n",
       "      <td>95000000.0</td>\n",
       "    </tr>\n",
       "    <tr>\n",
       "      <th>930</th>\n",
       "      <td>9.0</td>\n",
       "      <td>9.0</td>\n",
       "      <td>1.0</td>\n",
       "      <td>4.0</td>\n",
       "      <td>Detached Duplex</td>\n",
       "      <td>Lekki</td>\n",
       "      <td>Lagos</td>\n",
       "      <td>320000000.0</td>\n",
       "    </tr>\n",
       "  </tbody>\n",
       "</table>\n",
       "</div>"
      ],
      "text/plain": [
       "     bedrooms  bathrooms  toilets  parking_space            title  \\\n",
       "183       9.0        9.0      1.0            1.0  Detached Duplex   \n",
       "366       9.0        9.0      1.0            8.0  Detached Duplex   \n",
       "648       9.0        9.0      1.0            1.0  Detached Duplex   \n",
       "728       9.0        9.0      1.0            4.0  Detached Duplex   \n",
       "930       9.0        9.0      1.0            4.0  Detached Duplex   \n",
       "\n",
       "                 town  state        price  \n",
       "183             Isolo  Lagos   70000000.0  \n",
       "366             Lekki  Lagos  250000000.0  \n",
       "648  Maitama District  Abuja  700000000.0  \n",
       "728          Surulere  Lagos   95000000.0  \n",
       "930             Lekki  Lagos  320000000.0  "
      ]
     },
     "execution_count": 17,
     "metadata": {},
     "output_type": "execute_result"
    }
   ],
   "source": [
    "# apartments with 9 bedrooms having less than 4 toilets\n",
    "df_dup[(df_dup['bedrooms'] == 9) & (df_dup[\"toilets\"] < 4)].head()"
   ]
  },
  {
   "cell_type": "markdown",
   "metadata": {
    "id": "0gfZkgECajLG"
   },
   "source": [
    "These records are extreme. An housing apartments with 9 `bedrooms` but having less than 4 toilets?!"
   ]
  },
  {
   "cell_type": "code",
   "execution_count": 18,
   "metadata": {
    "execution": {
     "iopub.execute_input": "2023-12-15T18:18:47.637623Z",
     "iopub.status.busy": "2023-12-15T18:18:47.637211Z",
     "iopub.status.idle": "2023-12-15T18:18:47.648919Z",
     "shell.execute_reply": "2023-12-15T18:18:47.647867Z",
     "shell.execute_reply.started": "2023-12-15T18:18:47.63759Z"
    },
    "id": "hxqWlkzUajLH",
    "trusted": true
   },
   "outputs": [
    {
     "data": {
      "text/plain": [
       "(13689, 8)"
      ]
     },
     "execution_count": 18,
     "metadata": {},
     "output_type": "execute_result"
    }
   ],
   "source": [
    "# dropping these extreme rows\n",
    "df_dup.drop(df_dup[(df_dup['bedrooms'] == 9) & (df_dup[\"toilets\"] < 4)].index.to_list(), axis=0, inplace=True)\n",
    "df_dup.shape"
   ]
  },
  {
   "cell_type": "code",
   "execution_count": 19,
   "metadata": {
    "execution": {
     "iopub.execute_input": "2023-12-15T18:18:57.493681Z",
     "iopub.status.busy": "2023-12-15T18:18:57.49297Z",
     "iopub.status.idle": "2023-12-15T18:18:57.515489Z",
     "shell.execute_reply": "2023-12-15T18:18:57.514335Z",
     "shell.execute_reply.started": "2023-12-15T18:18:57.493621Z"
    },
    "id": "kr5OglXIajLH",
    "trusted": true
   },
   "outputs": [
    {
     "data": {
      "text/html": [
       "<div>\n",
       "<style scoped>\n",
       "    .dataframe tbody tr th:only-of-type {\n",
       "        vertical-align: middle;\n",
       "    }\n",
       "\n",
       "    .dataframe tbody tr th {\n",
       "        vertical-align: top;\n",
       "    }\n",
       "\n",
       "    .dataframe thead th {\n",
       "        text-align: right;\n",
       "    }\n",
       "</style>\n",
       "<table border=\"1\" class=\"dataframe\">\n",
       "  <thead>\n",
       "    <tr style=\"text-align: right;\">\n",
       "      <th></th>\n",
       "      <th>bedrooms</th>\n",
       "      <th>bathrooms</th>\n",
       "      <th>toilets</th>\n",
       "      <th>parking_space</th>\n",
       "      <th>title</th>\n",
       "      <th>town</th>\n",
       "      <th>state</th>\n",
       "      <th>price</th>\n",
       "    </tr>\n",
       "  </thead>\n",
       "  <tbody>\n",
       "    <tr>\n",
       "      <th>139</th>\n",
       "      <td>8.0</td>\n",
       "      <td>1.0</td>\n",
       "      <td>1.0</td>\n",
       "      <td>4.0</td>\n",
       "      <td>Detached Duplex</td>\n",
       "      <td>Ibadan</td>\n",
       "      <td>Oyo</td>\n",
       "      <td>1.500000e+08</td>\n",
       "    </tr>\n",
       "    <tr>\n",
       "      <th>449</th>\n",
       "      <td>8.0</td>\n",
       "      <td>1.0</td>\n",
       "      <td>1.0</td>\n",
       "      <td>4.0</td>\n",
       "      <td>Detached Duplex</td>\n",
       "      <td>Asokoro District</td>\n",
       "      <td>Abuja</td>\n",
       "      <td>7.500000e+08</td>\n",
       "    </tr>\n",
       "    <tr>\n",
       "      <th>633</th>\n",
       "      <td>8.0</td>\n",
       "      <td>1.0</td>\n",
       "      <td>1.0</td>\n",
       "      <td>7.0</td>\n",
       "      <td>Detached Duplex</td>\n",
       "      <td>Maitama District</td>\n",
       "      <td>Abuja</td>\n",
       "      <td>8.500000e+08</td>\n",
       "    </tr>\n",
       "    <tr>\n",
       "      <th>1940</th>\n",
       "      <td>8.0</td>\n",
       "      <td>8.0</td>\n",
       "      <td>1.0</td>\n",
       "      <td>1.0</td>\n",
       "      <td>Detached Duplex</td>\n",
       "      <td>Maitama District</td>\n",
       "      <td>Abuja</td>\n",
       "      <td>1.100000e+09</td>\n",
       "    </tr>\n",
       "    <tr>\n",
       "      <th>1955</th>\n",
       "      <td>8.0</td>\n",
       "      <td>2.0</td>\n",
       "      <td>2.0</td>\n",
       "      <td>4.0</td>\n",
       "      <td>Block of Flats</td>\n",
       "      <td>Ibadan</td>\n",
       "      <td>Oyo</td>\n",
       "      <td>6.000000e+06</td>\n",
       "    </tr>\n",
       "  </tbody>\n",
       "</table>\n",
       "</div>"
      ],
      "text/plain": [
       "      bedrooms  bathrooms  toilets  parking_space            title  \\\n",
       "139        8.0        1.0      1.0            4.0  Detached Duplex   \n",
       "449        8.0        1.0      1.0            4.0  Detached Duplex   \n",
       "633        8.0        1.0      1.0            7.0  Detached Duplex   \n",
       "1940       8.0        8.0      1.0            1.0  Detached Duplex   \n",
       "1955       8.0        2.0      2.0            4.0   Block of Flats   \n",
       "\n",
       "                  town  state         price  \n",
       "139             Ibadan    Oyo  1.500000e+08  \n",
       "449   Asokoro District  Abuja  7.500000e+08  \n",
       "633   Maitama District  Abuja  8.500000e+08  \n",
       "1940  Maitama District  Abuja  1.100000e+09  \n",
       "1955            Ibadan    Oyo  6.000000e+06  "
      ]
     },
     "execution_count": 19,
     "metadata": {},
     "output_type": "execute_result"
    }
   ],
   "source": [
    "# apartments with 8 bedrooms having less than 3 toilets\n",
    "df_dup[(df_dup['bedrooms'] == 8) & (df_dup[\"toilets\"] <3)].head()"
   ]
  },
  {
   "cell_type": "code",
   "execution_count": 20,
   "metadata": {
    "execution": {
     "iopub.execute_input": "2023-12-15T18:19:06.743822Z",
     "iopub.status.busy": "2023-12-15T18:19:06.743411Z",
     "iopub.status.idle": "2023-12-15T18:19:06.755294Z",
     "shell.execute_reply": "2023-12-15T18:19:06.754176Z",
     "shell.execute_reply.started": "2023-12-15T18:19:06.743791Z"
    },
    "id": "9NlPmSv3ajLI",
    "trusted": true
   },
   "outputs": [
    {
     "data": {
      "text/plain": [
       "(13650, 8)"
      ]
     },
     "execution_count": 20,
     "metadata": {},
     "output_type": "execute_result"
    }
   ],
   "source": [
    "# dropping these extreme rows\n",
    "df_dup.drop(df_dup[(df_dup['bedrooms'] == 8) & (df_dup[\"toilets\"] < 4)].index.to_list(), axis=0, inplace=True)\n",
    "df_dup.shape"
   ]
  },
  {
   "cell_type": "code",
   "execution_count": 21,
   "metadata": {
    "execution": {
     "iopub.execute_input": "2023-12-15T18:19:16.37278Z",
     "iopub.status.busy": "2023-12-15T18:19:16.372327Z",
     "iopub.status.idle": "2023-12-15T18:19:16.395095Z",
     "shell.execute_reply": "2023-12-15T18:19:16.393602Z",
     "shell.execute_reply.started": "2023-12-15T18:19:16.372744Z"
    },
    "id": "eDj_eIzUajLI",
    "trusted": true
   },
   "outputs": [
    {
     "data": {
      "text/html": [
       "<div>\n",
       "<style scoped>\n",
       "    .dataframe tbody tr th:only-of-type {\n",
       "        vertical-align: middle;\n",
       "    }\n",
       "\n",
       "    .dataframe tbody tr th {\n",
       "        vertical-align: top;\n",
       "    }\n",
       "\n",
       "    .dataframe thead th {\n",
       "        text-align: right;\n",
       "    }\n",
       "</style>\n",
       "<table border=\"1\" class=\"dataframe\">\n",
       "  <thead>\n",
       "    <tr style=\"text-align: right;\">\n",
       "      <th></th>\n",
       "      <th>bedrooms</th>\n",
       "      <th>bathrooms</th>\n",
       "      <th>toilets</th>\n",
       "      <th>parking_space</th>\n",
       "      <th>title</th>\n",
       "      <th>town</th>\n",
       "      <th>state</th>\n",
       "      <th>price</th>\n",
       "    </tr>\n",
       "  </thead>\n",
       "  <tbody>\n",
       "    <tr>\n",
       "      <th>1013</th>\n",
       "      <td>7.0</td>\n",
       "      <td>7.0</td>\n",
       "      <td>1.0</td>\n",
       "      <td>6.0</td>\n",
       "      <td>Detached Duplex</td>\n",
       "      <td>Ojo</td>\n",
       "      <td>Lagos</td>\n",
       "      <td>2.500000e+07</td>\n",
       "    </tr>\n",
       "    <tr>\n",
       "      <th>3059</th>\n",
       "      <td>7.0</td>\n",
       "      <td>7.0</td>\n",
       "      <td>1.0</td>\n",
       "      <td>4.0</td>\n",
       "      <td>Detached Duplex</td>\n",
       "      <td>Maitama District</td>\n",
       "      <td>Abuja</td>\n",
       "      <td>1.200000e+09</td>\n",
       "    </tr>\n",
       "    <tr>\n",
       "      <th>4193</th>\n",
       "      <td>7.0</td>\n",
       "      <td>7.0</td>\n",
       "      <td>1.0</td>\n",
       "      <td>1.0</td>\n",
       "      <td>Detached Duplex</td>\n",
       "      <td>Ikeja</td>\n",
       "      <td>Lagos</td>\n",
       "      <td>7.000000e+08</td>\n",
       "    </tr>\n",
       "    <tr>\n",
       "      <th>6706</th>\n",
       "      <td>7.0</td>\n",
       "      <td>9.0</td>\n",
       "      <td>1.0</td>\n",
       "      <td>1.0</td>\n",
       "      <td>Detached Duplex</td>\n",
       "      <td>Ikoyi</td>\n",
       "      <td>Lagos</td>\n",
       "      <td>1.000000e+09</td>\n",
       "    </tr>\n",
       "    <tr>\n",
       "      <th>7076</th>\n",
       "      <td>7.0</td>\n",
       "      <td>5.0</td>\n",
       "      <td>1.0</td>\n",
       "      <td>2.0</td>\n",
       "      <td>Detached Duplex</td>\n",
       "      <td>Lekki</td>\n",
       "      <td>Lagos</td>\n",
       "      <td>2.700000e+08</td>\n",
       "    </tr>\n",
       "  </tbody>\n",
       "</table>\n",
       "</div>"
      ],
      "text/plain": [
       "      bedrooms  bathrooms  toilets  parking_space            title  \\\n",
       "1013       7.0        7.0      1.0            6.0  Detached Duplex   \n",
       "3059       7.0        7.0      1.0            4.0  Detached Duplex   \n",
       "4193       7.0        7.0      1.0            1.0  Detached Duplex   \n",
       "6706       7.0        9.0      1.0            1.0  Detached Duplex   \n",
       "7076       7.0        5.0      1.0            2.0  Detached Duplex   \n",
       "\n",
       "                  town  state         price  \n",
       "1013               Ojo  Lagos  2.500000e+07  \n",
       "3059  Maitama District  Abuja  1.200000e+09  \n",
       "4193             Ikeja  Lagos  7.000000e+08  \n",
       "6706             Ikoyi  Lagos  1.000000e+09  \n",
       "7076             Lekki  Lagos  2.700000e+08  "
      ]
     },
     "execution_count": 21,
     "metadata": {},
     "output_type": "execute_result"
    }
   ],
   "source": [
    "# apartments with 7 bedrooms having less than 3 toilets\n",
    "df_dup[(df_dup['bedrooms'] == 7) & (df_dup[\"toilets\"] <3)].head()"
   ]
  },
  {
   "cell_type": "code",
   "execution_count": 22,
   "metadata": {
    "execution": {
     "iopub.execute_input": "2023-12-15T18:19:27.359945Z",
     "iopub.status.busy": "2023-12-15T18:19:27.359542Z",
     "iopub.status.idle": "2023-12-15T18:19:27.371613Z",
     "shell.execute_reply": "2023-12-15T18:19:27.370449Z",
     "shell.execute_reply.started": "2023-12-15T18:19:27.359914Z"
    },
    "id": "I4Jp_DwJajLJ",
    "trusted": true
   },
   "outputs": [
    {
     "data": {
      "text/plain": [
       "(13634, 8)"
      ]
     },
     "execution_count": 22,
     "metadata": {},
     "output_type": "execute_result"
    }
   ],
   "source": [
    "# dropping these extreme rows\n",
    "df_dup.drop(df_dup[(df_dup['bedrooms'] == 7) & (df_dup[\"toilets\"] < 3)].index.to_list(), axis=0, inplace=True)\n",
    "df_dup.shape"
   ]
  },
  {
   "cell_type": "code",
   "execution_count": 23,
   "metadata": {
    "execution": {
     "iopub.execute_input": "2023-12-15T18:19:35.845348Z",
     "iopub.status.busy": "2023-12-15T18:19:35.844945Z",
     "iopub.status.idle": "2023-12-15T18:19:35.864831Z",
     "shell.execute_reply": "2023-12-15T18:19:35.863674Z",
     "shell.execute_reply.started": "2023-12-15T18:19:35.845315Z"
    },
    "id": "PraQvFieajLJ",
    "trusted": true
   },
   "outputs": [
    {
     "data": {
      "text/html": [
       "<div>\n",
       "<style scoped>\n",
       "    .dataframe tbody tr th:only-of-type {\n",
       "        vertical-align: middle;\n",
       "    }\n",
       "\n",
       "    .dataframe tbody tr th {\n",
       "        vertical-align: top;\n",
       "    }\n",
       "\n",
       "    .dataframe thead th {\n",
       "        text-align: right;\n",
       "    }\n",
       "</style>\n",
       "<table border=\"1\" class=\"dataframe\">\n",
       "  <thead>\n",
       "    <tr style=\"text-align: right;\">\n",
       "      <th></th>\n",
       "      <th>bedrooms</th>\n",
       "      <th>bathrooms</th>\n",
       "      <th>toilets</th>\n",
       "      <th>parking_space</th>\n",
       "      <th>title</th>\n",
       "      <th>town</th>\n",
       "      <th>state</th>\n",
       "      <th>price</th>\n",
       "    </tr>\n",
       "  </thead>\n",
       "  <tbody>\n",
       "    <tr>\n",
       "      <th>5035</th>\n",
       "      <td>6.0</td>\n",
       "      <td>1.0</td>\n",
       "      <td>1.0</td>\n",
       "      <td>5.0</td>\n",
       "      <td>Detached Duplex</td>\n",
       "      <td>Isheri North</td>\n",
       "      <td>Lagos</td>\n",
       "      <td>140000000.0</td>\n",
       "    </tr>\n",
       "    <tr>\n",
       "      <th>5297</th>\n",
       "      <td>6.0</td>\n",
       "      <td>1.0</td>\n",
       "      <td>1.0</td>\n",
       "      <td>1.0</td>\n",
       "      <td>Detached Duplex</td>\n",
       "      <td>Gwarinpa</td>\n",
       "      <td>Abuja</td>\n",
       "      <td>120000000.0</td>\n",
       "    </tr>\n",
       "    <tr>\n",
       "      <th>5615</th>\n",
       "      <td>6.0</td>\n",
       "      <td>1.0</td>\n",
       "      <td>1.0</td>\n",
       "      <td>1.0</td>\n",
       "      <td>Detached Duplex</td>\n",
       "      <td>Ikeja</td>\n",
       "      <td>Lagos</td>\n",
       "      <td>490000000.0</td>\n",
       "    </tr>\n",
       "    <tr>\n",
       "      <th>5796</th>\n",
       "      <td>6.0</td>\n",
       "      <td>2.0</td>\n",
       "      <td>2.0</td>\n",
       "      <td>6.0</td>\n",
       "      <td>Detached Bungalow</td>\n",
       "      <td>Idimu</td>\n",
       "      <td>Lagos</td>\n",
       "      <td>10000000.0</td>\n",
       "    </tr>\n",
       "    <tr>\n",
       "      <th>8304</th>\n",
       "      <td>6.0</td>\n",
       "      <td>2.0</td>\n",
       "      <td>2.0</td>\n",
       "      <td>8.0</td>\n",
       "      <td>Detached Bungalow</td>\n",
       "      <td>Alimosho</td>\n",
       "      <td>Lagos</td>\n",
       "      <td>15000000.0</td>\n",
       "    </tr>\n",
       "  </tbody>\n",
       "</table>\n",
       "</div>"
      ],
      "text/plain": [
       "      bedrooms  bathrooms  toilets  parking_space              title  \\\n",
       "5035       6.0        1.0      1.0            5.0    Detached Duplex   \n",
       "5297       6.0        1.0      1.0            1.0    Detached Duplex   \n",
       "5615       6.0        1.0      1.0            1.0    Detached Duplex   \n",
       "5796       6.0        2.0      2.0            6.0  Detached Bungalow   \n",
       "8304       6.0        2.0      2.0            8.0  Detached Bungalow   \n",
       "\n",
       "              town  state        price  \n",
       "5035  Isheri North  Lagos  140000000.0  \n",
       "5297      Gwarinpa  Abuja  120000000.0  \n",
       "5615         Ikeja  Lagos  490000000.0  \n",
       "5796         Idimu  Lagos   10000000.0  \n",
       "8304      Alimosho  Lagos   15000000.0  "
      ]
     },
     "execution_count": 23,
     "metadata": {},
     "output_type": "execute_result"
    }
   ],
   "source": [
    "# apartments with 6 bedrooms having less than 3 toilets\n",
    "df_dup[(df_dup['bedrooms'] == 6) & (df_dup[\"toilets\"] <3)].head()"
   ]
  },
  {
   "cell_type": "code",
   "execution_count": 24,
   "metadata": {
    "execution": {
     "iopub.execute_input": "2023-12-15T18:19:43.114683Z",
     "iopub.status.busy": "2023-12-15T18:19:43.114249Z",
     "iopub.status.idle": "2023-12-15T18:19:43.126264Z",
     "shell.execute_reply": "2023-12-15T18:19:43.124985Z",
     "shell.execute_reply.started": "2023-12-15T18:19:43.114617Z"
    },
    "id": "yHJiR0aPajLK",
    "trusted": true
   },
   "outputs": [
    {
     "data": {
      "text/plain": [
       "(13619, 8)"
      ]
     },
     "execution_count": 24,
     "metadata": {},
     "output_type": "execute_result"
    }
   ],
   "source": [
    "# dropping these extreme rows\n",
    "df_dup.drop(df_dup[(df_dup['bedrooms'] == 6) & (df_dup[\"toilets\"] < 3)].index.to_list(), axis=0, inplace=True)\n",
    "df_dup.shape"
   ]
  },
  {
   "cell_type": "markdown",
   "metadata": {
    "id": "GyTBx5ajajLK"
   },
   "source": [
    "#### Exploring outliers: Bedrooms vs Bathrooms"
   ]
  },
  {
   "cell_type": "code",
   "execution_count": 25,
   "metadata": {
    "execution": {
     "iopub.execute_input": "2023-12-15T18:20:13.235397Z",
     "iopub.status.busy": "2023-12-15T18:20:13.234997Z",
     "iopub.status.idle": "2023-12-15T18:20:13.252803Z",
     "shell.execute_reply": "2023-12-15T18:20:13.251721Z",
     "shell.execute_reply.started": "2023-12-15T18:20:13.235366Z"
    },
    "id": "89AHWlkpajLL",
    "trusted": true
   },
   "outputs": [
    {
     "data": {
      "text/html": [
       "<div>\n",
       "<style scoped>\n",
       "    .dataframe tbody tr th:only-of-type {\n",
       "        vertical-align: middle;\n",
       "    }\n",
       "\n",
       "    .dataframe tbody tr th {\n",
       "        vertical-align: top;\n",
       "    }\n",
       "\n",
       "    .dataframe thead th {\n",
       "        text-align: right;\n",
       "    }\n",
       "</style>\n",
       "<table border=\"1\" class=\"dataframe\">\n",
       "  <thead>\n",
       "    <tr style=\"text-align: right;\">\n",
       "      <th></th>\n",
       "      <th>bedrooms</th>\n",
       "      <th>bathrooms</th>\n",
       "      <th>toilets</th>\n",
       "      <th>parking_space</th>\n",
       "      <th>title</th>\n",
       "      <th>town</th>\n",
       "      <th>state</th>\n",
       "      <th>price</th>\n",
       "    </tr>\n",
       "  </thead>\n",
       "  <tbody>\n",
       "    <tr>\n",
       "      <th>9786</th>\n",
       "      <td>1.0</td>\n",
       "      <td>8.0</td>\n",
       "      <td>1.0</td>\n",
       "      <td>6.0</td>\n",
       "      <td>Block of Flats</td>\n",
       "      <td>Ijaiye</td>\n",
       "      <td>Lagos</td>\n",
       "      <td>45000000.0</td>\n",
       "    </tr>\n",
       "  </tbody>\n",
       "</table>\n",
       "</div>"
      ],
      "text/plain": [
       "      bedrooms  bathrooms  toilets  parking_space           title    town  \\\n",
       "9786       1.0        8.0      1.0            6.0  Block of Flats  Ijaiye   \n",
       "\n",
       "      state       price  \n",
       "9786  Lagos  45000000.0  "
      ]
     },
     "execution_count": 25,
     "metadata": {},
     "output_type": "execute_result"
    }
   ],
   "source": [
    "df_dup[(df_dup['bathrooms'] == 8) & (df_dup[\"bedrooms\"] < 3)].head()"
   ]
  },
  {
   "cell_type": "markdown",
   "metadata": {
    "id": "tivZzYTrajLW"
   },
   "source": [
    "This is too extreme!"
   ]
  },
  {
   "cell_type": "code",
   "execution_count": 26,
   "metadata": {
    "execution": {
     "iopub.execute_input": "2023-12-15T18:20:51.912993Z",
     "iopub.status.busy": "2023-12-15T18:20:51.912585Z",
     "iopub.status.idle": "2023-12-15T18:20:51.924356Z",
     "shell.execute_reply": "2023-12-15T18:20:51.923096Z",
     "shell.execute_reply.started": "2023-12-15T18:20:51.91296Z"
    },
    "id": "K5ME29MZajLX",
    "trusted": true
   },
   "outputs": [
    {
     "data": {
      "text/plain": [
       "(13618, 8)"
      ]
     },
     "execution_count": 26,
     "metadata": {},
     "output_type": "execute_result"
    }
   ],
   "source": [
    "# dropping this extreme row 9786\n",
    "df_dup.drop(df_dup[(df_dup['bathrooms'] == 8) & (df_dup[\"bedrooms\"] < 3)].index.to_list(), axis=0, inplace=True)\n",
    "df_dup.shape"
   ]
  },
  {
   "cell_type": "code",
   "execution_count": 27,
   "metadata": {
    "execution": {
     "iopub.execute_input": "2023-12-15T18:21:01.288852Z",
     "iopub.status.busy": "2023-12-15T18:21:01.288463Z",
     "iopub.status.idle": "2023-12-15T18:21:01.305773Z",
     "shell.execute_reply": "2023-12-15T18:21:01.304572Z",
     "shell.execute_reply.started": "2023-12-15T18:21:01.288824Z"
    },
    "id": "OKebFrQDajLX",
    "trusted": true
   },
   "outputs": [
    {
     "data": {
      "text/html": [
       "<div>\n",
       "<style scoped>\n",
       "    .dataframe tbody tr th:only-of-type {\n",
       "        vertical-align: middle;\n",
       "    }\n",
       "\n",
       "    .dataframe tbody tr th {\n",
       "        vertical-align: top;\n",
       "    }\n",
       "\n",
       "    .dataframe thead th {\n",
       "        text-align: right;\n",
       "    }\n",
       "</style>\n",
       "<table border=\"1\" class=\"dataframe\">\n",
       "  <thead>\n",
       "    <tr style=\"text-align: right;\">\n",
       "      <th></th>\n",
       "      <th>bedrooms</th>\n",
       "      <th>bathrooms</th>\n",
       "      <th>toilets</th>\n",
       "      <th>parking_space</th>\n",
       "      <th>title</th>\n",
       "      <th>town</th>\n",
       "      <th>state</th>\n",
       "      <th>price</th>\n",
       "    </tr>\n",
       "  </thead>\n",
       "  <tbody>\n",
       "    <tr>\n",
       "      <th>8592</th>\n",
       "      <td>9.0</td>\n",
       "      <td>3.0</td>\n",
       "      <td>6.0</td>\n",
       "      <td>4.0</td>\n",
       "      <td>Detached Duplex</td>\n",
       "      <td>Ajah</td>\n",
       "      <td>Lagos</td>\n",
       "      <td>200000000.0</td>\n",
       "    </tr>\n",
       "    <tr>\n",
       "      <th>23393</th>\n",
       "      <td>9.0</td>\n",
       "      <td>1.0</td>\n",
       "      <td>9.0</td>\n",
       "      <td>9.0</td>\n",
       "      <td>Detached Duplex</td>\n",
       "      <td>Ojo</td>\n",
       "      <td>Lagos</td>\n",
       "      <td>50000000.0</td>\n",
       "    </tr>\n",
       "  </tbody>\n",
       "</table>\n",
       "</div>"
      ],
      "text/plain": [
       "       bedrooms  bathrooms  toilets  parking_space            title  town  \\\n",
       "8592        9.0        3.0      6.0            4.0  Detached Duplex  Ajah   \n",
       "23393       9.0        1.0      9.0            9.0  Detached Duplex   Ojo   \n",
       "\n",
       "       state        price  \n",
       "8592   Lagos  200000000.0  \n",
       "23393  Lagos   50000000.0  "
      ]
     },
     "execution_count": 27,
     "metadata": {},
     "output_type": "execute_result"
    }
   ],
   "source": [
    "# apartments with 9 bedrooms having less than 4 bathrooms\n",
    "df_dup[(df_dup['bedrooms'] == 9) & (df_dup[\"bathrooms\"] < 4)].head()"
   ]
  },
  {
   "cell_type": "code",
   "execution_count": 28,
   "metadata": {
    "execution": {
     "iopub.execute_input": "2023-12-15T18:21:10.813424Z",
     "iopub.status.busy": "2023-12-15T18:21:10.812423Z",
     "iopub.status.idle": "2023-12-15T18:21:10.8254Z",
     "shell.execute_reply": "2023-12-15T18:21:10.824338Z",
     "shell.execute_reply.started": "2023-12-15T18:21:10.81338Z"
    },
    "id": "4egWJf1LajLY",
    "trusted": true
   },
   "outputs": [
    {
     "data": {
      "text/plain": [
       "(13616, 8)"
      ]
     },
     "execution_count": 28,
     "metadata": {},
     "output_type": "execute_result"
    }
   ],
   "source": [
    "# dropping these extreme rows\n",
    "df_dup.drop(df_dup[(df_dup['bedrooms'] == 9) & (df_dup[\"bathrooms\"] < 4)].index.to_list(), axis=0, inplace=True)\n",
    "df_dup.shape"
   ]
  },
  {
   "cell_type": "code",
   "execution_count": 29,
   "metadata": {
    "execution": {
     "iopub.execute_input": "2023-12-15T18:21:30.712854Z",
     "iopub.status.busy": "2023-12-15T18:21:30.712416Z",
     "iopub.status.idle": "2023-12-15T18:21:30.728767Z",
     "shell.execute_reply": "2023-12-15T18:21:30.727734Z",
     "shell.execute_reply.started": "2023-12-15T18:21:30.712819Z"
    },
    "id": "Wr_ZEYPEajLZ",
    "trusted": true
   },
   "outputs": [
    {
     "data": {
      "text/html": [
       "<div>\n",
       "<style scoped>\n",
       "    .dataframe tbody tr th:only-of-type {\n",
       "        vertical-align: middle;\n",
       "    }\n",
       "\n",
       "    .dataframe tbody tr th {\n",
       "        vertical-align: top;\n",
       "    }\n",
       "\n",
       "    .dataframe thead th {\n",
       "        text-align: right;\n",
       "    }\n",
       "</style>\n",
       "<table border=\"1\" class=\"dataframe\">\n",
       "  <thead>\n",
       "    <tr style=\"text-align: right;\">\n",
       "      <th></th>\n",
       "      <th>bedrooms</th>\n",
       "      <th>bathrooms</th>\n",
       "      <th>toilets</th>\n",
       "      <th>parking_space</th>\n",
       "      <th>title</th>\n",
       "      <th>town</th>\n",
       "      <th>state</th>\n",
       "      <th>price</th>\n",
       "    </tr>\n",
       "  </thead>\n",
       "  <tbody>\n",
       "    <tr>\n",
       "      <th>11269</th>\n",
       "      <td>8.0</td>\n",
       "      <td>2.0</td>\n",
       "      <td>4.0</td>\n",
       "      <td>4.0</td>\n",
       "      <td>Block of Flats</td>\n",
       "      <td>Ado-Odo/Ota</td>\n",
       "      <td>Ogun</td>\n",
       "      <td>12000000.0</td>\n",
       "    </tr>\n",
       "  </tbody>\n",
       "</table>\n",
       "</div>"
      ],
      "text/plain": [
       "       bedrooms  bathrooms  toilets  parking_space           title  \\\n",
       "11269       8.0        2.0      4.0            4.0  Block of Flats   \n",
       "\n",
       "              town state       price  \n",
       "11269  Ado-Odo/Ota  Ogun  12000000.0  "
      ]
     },
     "execution_count": 29,
     "metadata": {},
     "output_type": "execute_result"
    }
   ],
   "source": [
    "# apartments with 8 bedrooms having less than 4 bathrooms\n",
    "df_dup[(df_dup['bedrooms'] == 8) & (df_dup[\"bathrooms\"] < 4)].head()"
   ]
  },
  {
   "cell_type": "code",
   "execution_count": 30,
   "metadata": {
    "execution": {
     "iopub.execute_input": "2023-12-15T18:21:49.452552Z",
     "iopub.status.busy": "2023-12-15T18:21:49.452173Z",
     "iopub.status.idle": "2023-12-15T18:21:49.464371Z",
     "shell.execute_reply": "2023-12-15T18:21:49.463167Z",
     "shell.execute_reply.started": "2023-12-15T18:21:49.452512Z"
    },
    "id": "6c_egxMJajLZ",
    "trusted": true
   },
   "outputs": [
    {
     "data": {
      "text/plain": [
       "(13615, 8)"
      ]
     },
     "execution_count": 30,
     "metadata": {},
     "output_type": "execute_result"
    }
   ],
   "source": [
    "# dropping this extreme row\n",
    "df_dup.drop(df_dup[(df_dup['bedrooms'] == 8) & (df_dup[\"bathrooms\"] < 4)].index.to_list(), axis=0, inplace=True)\n",
    "df_dup.shape"
   ]
  },
  {
   "cell_type": "code",
   "execution_count": 31,
   "metadata": {
    "execution": {
     "iopub.execute_input": "2023-12-15T18:21:57.075964Z",
     "iopub.status.busy": "2023-12-15T18:21:57.075173Z",
     "iopub.status.idle": "2023-12-15T18:21:57.092291Z",
     "shell.execute_reply": "2023-12-15T18:21:57.091393Z",
     "shell.execute_reply.started": "2023-12-15T18:21:57.075924Z"
    },
    "id": "J5EfBWzRajLa",
    "trusted": true
   },
   "outputs": [
    {
     "data": {
      "text/html": [
       "<div>\n",
       "<style scoped>\n",
       "    .dataframe tbody tr th:only-of-type {\n",
       "        vertical-align: middle;\n",
       "    }\n",
       "\n",
       "    .dataframe tbody tr th {\n",
       "        vertical-align: top;\n",
       "    }\n",
       "\n",
       "    .dataframe thead th {\n",
       "        text-align: right;\n",
       "    }\n",
       "</style>\n",
       "<table border=\"1\" class=\"dataframe\">\n",
       "  <thead>\n",
       "    <tr style=\"text-align: right;\">\n",
       "      <th></th>\n",
       "      <th>bedrooms</th>\n",
       "      <th>bathrooms</th>\n",
       "      <th>toilets</th>\n",
       "      <th>parking_space</th>\n",
       "      <th>title</th>\n",
       "      <th>town</th>\n",
       "      <th>state</th>\n",
       "      <th>price</th>\n",
       "    </tr>\n",
       "  </thead>\n",
       "  <tbody>\n",
       "    <tr>\n",
       "      <th>17628</th>\n",
       "      <td>7.0</td>\n",
       "      <td>1.0</td>\n",
       "      <td>8.0</td>\n",
       "      <td>1.0</td>\n",
       "      <td>Detached Duplex</td>\n",
       "      <td>Asokoro District</td>\n",
       "      <td>Abuja</td>\n",
       "      <td>450000000.0</td>\n",
       "    </tr>\n",
       "  </tbody>\n",
       "</table>\n",
       "</div>"
      ],
      "text/plain": [
       "       bedrooms  bathrooms  toilets  parking_space            title  \\\n",
       "17628       7.0        1.0      8.0            1.0  Detached Duplex   \n",
       "\n",
       "                   town  state        price  \n",
       "17628  Asokoro District  Abuja  450000000.0  "
      ]
     },
     "execution_count": 31,
     "metadata": {},
     "output_type": "execute_result"
    }
   ],
   "source": [
    "# apartments with 7 bedrooms having less than 3 bathrooms\n",
    "df_dup[(df_dup['bedrooms'] == 7) & (df_dup[\"bathrooms\"] < 3)].head()"
   ]
  },
  {
   "cell_type": "code",
   "execution_count": 32,
   "metadata": {
    "execution": {
     "iopub.execute_input": "2023-12-15T18:22:05.783351Z",
     "iopub.status.busy": "2023-12-15T18:22:05.782913Z",
     "iopub.status.idle": "2023-12-15T18:22:05.797623Z",
     "shell.execute_reply": "2023-12-15T18:22:05.796588Z",
     "shell.execute_reply.started": "2023-12-15T18:22:05.783316Z"
    },
    "id": "-Msjo3osajLb",
    "trusted": true
   },
   "outputs": [
    {
     "data": {
      "text/plain": [
       "(13614, 8)"
      ]
     },
     "execution_count": 32,
     "metadata": {},
     "output_type": "execute_result"
    }
   ],
   "source": [
    "# dropping this extreme row\n",
    "df_dup.drop(df_dup[(df_dup['bedrooms'] == 7) & (df_dup[\"bathrooms\"] < 3)].index.to_list(), axis=0, inplace=True)\n",
    "df_dup.shape"
   ]
  },
  {
   "cell_type": "code",
   "execution_count": 33,
   "metadata": {
    "execution": {
     "iopub.execute_input": "2023-12-15T18:22:13.963536Z",
     "iopub.status.busy": "2023-12-15T18:22:13.963174Z",
     "iopub.status.idle": "2023-12-15T18:22:13.982424Z",
     "shell.execute_reply": "2023-12-15T18:22:13.981321Z",
     "shell.execute_reply.started": "2023-12-15T18:22:13.963508Z"
    },
    "id": "QEihVJnkajLc",
    "trusted": true
   },
   "outputs": [
    {
     "data": {
      "text/html": [
       "<div>\n",
       "<style scoped>\n",
       "    .dataframe tbody tr th:only-of-type {\n",
       "        vertical-align: middle;\n",
       "    }\n",
       "\n",
       "    .dataframe tbody tr th {\n",
       "        vertical-align: top;\n",
       "    }\n",
       "\n",
       "    .dataframe thead th {\n",
       "        text-align: right;\n",
       "    }\n",
       "</style>\n",
       "<table border=\"1\" class=\"dataframe\">\n",
       "  <thead>\n",
       "    <tr style=\"text-align: right;\">\n",
       "      <th></th>\n",
       "      <th>bedrooms</th>\n",
       "      <th>bathrooms</th>\n",
       "      <th>toilets</th>\n",
       "      <th>parking_space</th>\n",
       "      <th>title</th>\n",
       "      <th>town</th>\n",
       "      <th>state</th>\n",
       "      <th>price</th>\n",
       "    </tr>\n",
       "  </thead>\n",
       "  <tbody>\n",
       "    <tr>\n",
       "      <th>2798</th>\n",
       "      <td>6.0</td>\n",
       "      <td>1.0</td>\n",
       "      <td>9.0</td>\n",
       "      <td>1.0</td>\n",
       "      <td>Detached Duplex</td>\n",
       "      <td>Asokoro District</td>\n",
       "      <td>Abuja</td>\n",
       "      <td>350000000.0</td>\n",
       "    </tr>\n",
       "    <tr>\n",
       "      <th>12055</th>\n",
       "      <td>6.0</td>\n",
       "      <td>2.0</td>\n",
       "      <td>3.0</td>\n",
       "      <td>2.0</td>\n",
       "      <td>Detached Bungalow</td>\n",
       "      <td>Kuje</td>\n",
       "      <td>Abuja</td>\n",
       "      <td>12000000.0</td>\n",
       "    </tr>\n",
       "    <tr>\n",
       "      <th>21129</th>\n",
       "      <td>6.0</td>\n",
       "      <td>2.0</td>\n",
       "      <td>6.0</td>\n",
       "      <td>4.0</td>\n",
       "      <td>Semi Detached Bungalow</td>\n",
       "      <td>Ikorodu</td>\n",
       "      <td>Lagos</td>\n",
       "      <td>16000000.0</td>\n",
       "    </tr>\n",
       "    <tr>\n",
       "      <th>22086</th>\n",
       "      <td>6.0</td>\n",
       "      <td>2.0</td>\n",
       "      <td>4.0</td>\n",
       "      <td>1.0</td>\n",
       "      <td>Block of Flats</td>\n",
       "      <td>Ifo</td>\n",
       "      <td>Ogun</td>\n",
       "      <td>30000000.0</td>\n",
       "    </tr>\n",
       "  </tbody>\n",
       "</table>\n",
       "</div>"
      ],
      "text/plain": [
       "       bedrooms  bathrooms  toilets  parking_space                   title  \\\n",
       "2798        6.0        1.0      9.0            1.0         Detached Duplex   \n",
       "12055       6.0        2.0      3.0            2.0       Detached Bungalow   \n",
       "21129       6.0        2.0      6.0            4.0  Semi Detached Bungalow   \n",
       "22086       6.0        2.0      4.0            1.0          Block of Flats   \n",
       "\n",
       "                   town  state        price  \n",
       "2798   Asokoro District  Abuja  350000000.0  \n",
       "12055              Kuje  Abuja   12000000.0  \n",
       "21129           Ikorodu  Lagos   16000000.0  \n",
       "22086               Ifo   Ogun   30000000.0  "
      ]
     },
     "execution_count": 33,
     "metadata": {},
     "output_type": "execute_result"
    }
   ],
   "source": [
    "# apartments with 6 bedrooms having less than 3 bathrooms\n",
    "df_dup[(df_dup['bedrooms'] == 6) & (df_dup[\"bathrooms\"] < 3)].head()"
   ]
  },
  {
   "cell_type": "code",
   "execution_count": 34,
   "metadata": {
    "execution": {
     "iopub.execute_input": "2023-12-15T18:22:22.574375Z",
     "iopub.status.busy": "2023-12-15T18:22:22.573971Z",
     "iopub.status.idle": "2023-12-15T18:22:22.585122Z",
     "shell.execute_reply": "2023-12-15T18:22:22.584043Z",
     "shell.execute_reply.started": "2023-12-15T18:22:22.574344Z"
    },
    "id": "uk3zaq3YajLc",
    "trusted": true
   },
   "outputs": [
    {
     "data": {
      "text/plain": [
       "(13610, 8)"
      ]
     },
     "execution_count": 34,
     "metadata": {},
     "output_type": "execute_result"
    }
   ],
   "source": [
    "# dropping these extreme rows\n",
    "df_dup.drop(df_dup[(df_dup['bedrooms'] == 6) & (df_dup[\"bathrooms\"] < 3)].index.to_list(), axis=0, inplace=True)\n",
    "df_dup.shape"
   ]
  },
  {
   "cell_type": "code",
   "execution_count": 35,
   "metadata": {
    "execution": {
     "iopub.execute_input": "2023-12-15T18:22:32.824489Z",
     "iopub.status.busy": "2023-12-15T18:22:32.824078Z",
     "iopub.status.idle": "2023-12-15T18:22:32.84452Z",
     "shell.execute_reply": "2023-12-15T18:22:32.843713Z",
     "shell.execute_reply.started": "2023-12-15T18:22:32.824456Z"
    },
    "id": "uC-GU5VuajLd",
    "trusted": true
   },
   "outputs": [
    {
     "data": {
      "text/html": [
       "<div>\n",
       "<style scoped>\n",
       "    .dataframe tbody tr th:only-of-type {\n",
       "        vertical-align: middle;\n",
       "    }\n",
       "\n",
       "    .dataframe tbody tr th {\n",
       "        vertical-align: top;\n",
       "    }\n",
       "\n",
       "    .dataframe thead th {\n",
       "        text-align: right;\n",
       "    }\n",
       "</style>\n",
       "<table border=\"1\" class=\"dataframe\">\n",
       "  <thead>\n",
       "    <tr style=\"text-align: right;\">\n",
       "      <th></th>\n",
       "      <th>bedrooms</th>\n",
       "      <th>bathrooms</th>\n",
       "      <th>toilets</th>\n",
       "      <th>parking_space</th>\n",
       "      <th>title</th>\n",
       "      <th>town</th>\n",
       "      <th>state</th>\n",
       "      <th>price</th>\n",
       "    </tr>\n",
       "  </thead>\n",
       "  <tbody>\n",
       "    <tr>\n",
       "      <th>9627</th>\n",
       "      <td>4.0</td>\n",
       "      <td>8.0</td>\n",
       "      <td>1.0</td>\n",
       "      <td>7.0</td>\n",
       "      <td>Detached Duplex</td>\n",
       "      <td>Maryland</td>\n",
       "      <td>Lagos</td>\n",
       "      <td>150000000.0</td>\n",
       "    </tr>\n",
       "    <tr>\n",
       "      <th>16728</th>\n",
       "      <td>5.0</td>\n",
       "      <td>9.0</td>\n",
       "      <td>1.0</td>\n",
       "      <td>1.0</td>\n",
       "      <td>Detached Duplex</td>\n",
       "      <td>Galadimawa</td>\n",
       "      <td>Abuja</td>\n",
       "      <td>200000000.0</td>\n",
       "    </tr>\n",
       "    <tr>\n",
       "      <th>16860</th>\n",
       "      <td>5.0</td>\n",
       "      <td>1.0</td>\n",
       "      <td>9.0</td>\n",
       "      <td>4.0</td>\n",
       "      <td>Detached Duplex</td>\n",
       "      <td>Ikorodu</td>\n",
       "      <td>Lagos</td>\n",
       "      <td>40000000.0</td>\n",
       "    </tr>\n",
       "    <tr>\n",
       "      <th>17601</th>\n",
       "      <td>3.0</td>\n",
       "      <td>8.0</td>\n",
       "      <td>1.0</td>\n",
       "      <td>6.0</td>\n",
       "      <td>Block of Flats</td>\n",
       "      <td>Ojo</td>\n",
       "      <td>Lagos</td>\n",
       "      <td>28000000.0</td>\n",
       "    </tr>\n",
       "    <tr>\n",
       "      <th>22991</th>\n",
       "      <td>4.0</td>\n",
       "      <td>8.0</td>\n",
       "      <td>1.0</td>\n",
       "      <td>4.0</td>\n",
       "      <td>Detached Duplex</td>\n",
       "      <td>Wuse 2</td>\n",
       "      <td>Abuja</td>\n",
       "      <td>350000000.0</td>\n",
       "    </tr>\n",
       "  </tbody>\n",
       "</table>\n",
       "</div>"
      ],
      "text/plain": [
       "       bedrooms  bathrooms  toilets  parking_space            title  \\\n",
       "9627        4.0        8.0      1.0            7.0  Detached Duplex   \n",
       "16728       5.0        9.0      1.0            1.0  Detached Duplex   \n",
       "16860       5.0        1.0      9.0            4.0  Detached Duplex   \n",
       "17601       3.0        8.0      1.0            6.0   Block of Flats   \n",
       "22991       4.0        8.0      1.0            4.0  Detached Duplex   \n",
       "\n",
       "             town  state        price  \n",
       "9627     Maryland  Lagos  150000000.0  \n",
       "16728  Galadimawa  Abuja  200000000.0  \n",
       "16860     Ikorodu  Lagos   40000000.0  \n",
       "17601         Ojo  Lagos   28000000.0  \n",
       "22991      Wuse 2  Abuja  350000000.0  "
      ]
     },
     "execution_count": 35,
     "metadata": {},
     "output_type": "execute_result"
    }
   ],
   "source": [
    "# apartments where bathrooms > 6 and toilets < 3 or bathrooms < 3 and toilets > 6\n",
    "df_dup[((df_dup['bathrooms'] > 6) & (df_dup[\"toilets\"] < 3)) | ((df_dup['bathrooms'] < 3) & (df_dup[\"toilets\"] > 6))].head()"
   ]
  },
  {
   "cell_type": "code",
   "execution_count": 36,
   "metadata": {
    "execution": {
     "iopub.execute_input": "2023-12-15T18:22:46.072496Z",
     "iopub.status.busy": "2023-12-15T18:22:46.072092Z",
     "iopub.status.idle": "2023-12-15T18:22:46.084966Z",
     "shell.execute_reply": "2023-12-15T18:22:46.083718Z",
     "shell.execute_reply.started": "2023-12-15T18:22:46.072463Z"
    },
    "id": "vH1F43YSajLo",
    "trusted": true
   },
   "outputs": [
    {
     "data": {
      "text/plain": [
       "(13604, 8)"
      ]
     },
     "execution_count": 36,
     "metadata": {},
     "output_type": "execute_result"
    }
   ],
   "source": [
    "# dropping these extreme rows\n",
    "df_dup.drop(df_dup[((df_dup['bathrooms'] > 6) & (df_dup[\"toilets\"] < 3)) | ((df_dup['bathrooms'] < 3) & (df_dup[\"toilets\"] > 6))].index.to_list(),\n",
    "        inplace=True, axis=0)\n",
    "df_dup.shape"
   ]
  },
  {
   "cell_type": "markdown",
   "metadata": {
    "id": "ApF5eG26ajLp"
   },
   "source": [
    "#### Exploring outliers: Apartment Features vs Price"
   ]
  },
  {
   "cell_type": "code",
   "execution_count": 37,
   "metadata": {
    "execution": {
     "iopub.execute_input": "2023-12-15T18:23:44.695009Z",
     "iopub.status.busy": "2023-12-15T18:23:44.694538Z",
     "iopub.status.idle": "2023-12-15T18:23:44.978795Z",
     "shell.execute_reply": "2023-12-15T18:23:44.977599Z",
     "shell.execute_reply.started": "2023-12-15T18:23:44.694976Z"
    },
    "id": "o0r5Goo4ajLq",
    "trusted": true
   },
   "outputs": [
    {
     "data": {
      "image/png": "[encoded data removed]",
      "text/plain": [
       "<Figure size 1200x500 with 1 Axes>"
      ]
     },
     "metadata": {},
     "output_type": "display_data"
    }
   ],
   "source": [
    "sns.boxplot(x=df_dup[\"price\"]/1e9, orient=\"h\")\n",
    "plt.xlabel(\"Price (in billion naira)\")\n",
    "plt.title(\"Boxplot of Price of Apartment in Nigeria\");"
   ]
  },
  {
   "cell_type": "code",
   "execution_count": 38,
   "metadata": {
    "execution": {
     "iopub.execute_input": "2023-12-15T18:23:57.598231Z",
     "iopub.status.busy": "2023-12-15T18:23:57.597825Z",
     "iopub.status.idle": "2023-12-15T18:23:57.614258Z",
     "shell.execute_reply": "2023-12-15T18:23:57.613001Z",
     "shell.execute_reply.started": "2023-12-15T18:23:57.598198Z"
    },
    "id": "w-ZaqvHUajLr",
    "trusted": true
   },
   "outputs": [
    {
     "data": {
      "text/html": [
       "<div>\n",
       "<style scoped>\n",
       "    .dataframe tbody tr th:only-of-type {\n",
       "        vertical-align: middle;\n",
       "    }\n",
       "\n",
       "    .dataframe tbody tr th {\n",
       "        vertical-align: top;\n",
       "    }\n",
       "\n",
       "    .dataframe thead th {\n",
       "        text-align: right;\n",
       "    }\n",
       "</style>\n",
       "<table border=\"1\" class=\"dataframe\">\n",
       "  <thead>\n",
       "    <tr style=\"text-align: right;\">\n",
       "      <th></th>\n",
       "      <th>bedrooms</th>\n",
       "      <th>bathrooms</th>\n",
       "      <th>toilets</th>\n",
       "      <th>parking_space</th>\n",
       "      <th>title</th>\n",
       "      <th>town</th>\n",
       "      <th>state</th>\n",
       "      <th>price</th>\n",
       "    </tr>\n",
       "  </thead>\n",
       "  <tbody>\n",
       "    <tr>\n",
       "      <th>2693</th>\n",
       "      <td>2.0</td>\n",
       "      <td>3.0</td>\n",
       "      <td>3.0</td>\n",
       "      <td>4.0</td>\n",
       "      <td>Terraced Duplexes</td>\n",
       "      <td>Ibeju Lekki</td>\n",
       "      <td>Lagos</td>\n",
       "      <td>90000.0</td>\n",
       "    </tr>\n",
       "  </tbody>\n",
       "</table>\n",
       "</div>"
      ],
      "text/plain": [
       "      bedrooms  bathrooms  toilets  parking_space              title  \\\n",
       "2693       2.0        3.0      3.0            4.0  Terraced Duplexes   \n",
       "\n",
       "             town  state    price  \n",
       "2693  Ibeju Lekki  Lagos  90000.0  "
      ]
     },
     "execution_count": 38,
     "metadata": {},
     "output_type": "execute_result"
    }
   ],
   "source": [
    "#The apartment with the minimum price\n",
    "df_dup[df_dup[\"price\"] == df_dup[\"price\"].min()]"
   ]
  },
  {
   "cell_type": "markdown",
   "metadata": {
    "id": "Ei7znOr1ajLr"
   },
   "source": [
    "- The boxplot shows that there are outliers in `price`.\n",
    "- Also, looking at the minimum amount, it shows that the cheatest apartment price of a two-bedroom apartment in Ibeju-Lekki is`90,000` naira."
   ]
  },
  {
   "cell_type": "code",
   "execution_count": 39,
   "metadata": {
    "execution": {
     "iopub.execute_input": "2023-12-15T18:25:40.00732Z",
     "iopub.status.busy": "2023-12-15T18:25:40.006893Z",
     "iopub.status.idle": "2023-12-15T18:25:40.019325Z",
     "shell.execute_reply": "2023-12-15T18:25:40.018088Z",
     "shell.execute_reply.started": "2023-12-15T18:25:40.007284Z"
    },
    "id": "kwgbSTOcajLs",
    "trusted": true
   },
   "outputs": [
    {
     "data": {
      "text/plain": [
       "(10957, 8)"
      ]
     },
     "execution_count": 39,
     "metadata": {},
     "output_type": "execute_result"
    }
   ],
   "source": [
    "# Removing outliers in price (prices below or above the 10th and 90th percentile respectively)\n",
    "\n",
    "low, high = df_dup[\"price\"].quantile([0.1,0.9])\n",
    "mask = df_dup[\"price\"].between(low, high)\n",
    "df_dup = df_dup[mask]\n",
    "df_dup.shape"
   ]
  },
  {
   "cell_type": "code",
   "execution_count": 40,
   "metadata": {
    "execution": {
     "iopub.execute_input": "2023-12-15T18:25:49.370507Z",
     "iopub.status.busy": "2023-12-15T18:25:49.370077Z",
     "iopub.status.idle": "2023-12-15T18:25:49.607283Z",
     "shell.execute_reply": "2023-12-15T18:25:49.60604Z",
     "shell.execute_reply.started": "2023-12-15T18:25:49.370473Z"
    },
    "id": "43P00913ajLs",
    "trusted": true
   },
   "outputs": [
    {
     "data": {
      "image/png": "[encoded data removed]",
      "text/plain": [
       "<Figure size 1200x500 with 1 Axes>"
      ]
     },
     "metadata": {},
     "output_type": "display_data"
    }
   ],
   "source": [
    "#Boxplot after removing outlier in price feature\n",
    "sns.boxplot(x=df_dup[\"price\"]/1e6, orient=\"h\", color=\"lightgray\")\n",
    "plt.xlabel(\"Price (in million naira)\")\n",
    "plt.title(\"Boxplot of Price of Apartment in Nigeria\");"
   ]
  },
  {
   "cell_type": "markdown",
   "metadata": {
    "id": "A2X41-oQajLt"
   },
   "source": [
    "## Exploring the Features"
   ]
  },
  {
   "cell_type": "code",
   "execution_count": 41,
   "metadata": {
    "execution": {
     "iopub.execute_input": "2023-12-15T18:27:25.238803Z",
     "iopub.status.busy": "2023-12-15T18:27:25.238364Z",
     "iopub.status.idle": "2023-12-15T18:27:25.259426Z",
     "shell.execute_reply": "2023-12-15T18:27:25.258624Z",
     "shell.execute_reply.started": "2023-12-15T18:27:25.238769Z"
    },
    "id": "-L-ftOauajLt",
    "trusted": true
   },
   "outputs": [
    {
     "data": {
      "text/html": [
       "<div>\n",
       "<style scoped>\n",
       "    .dataframe tbody tr th:only-of-type {\n",
       "        vertical-align: middle;\n",
       "    }\n",
       "\n",
       "    .dataframe tbody tr th {\n",
       "        vertical-align: top;\n",
       "    }\n",
       "\n",
       "    .dataframe thead th {\n",
       "        text-align: right;\n",
       "    }\n",
       "</style>\n",
       "<table border=\"1\" class=\"dataframe\">\n",
       "  <thead>\n",
       "    <tr style=\"text-align: right;\">\n",
       "      <th></th>\n",
       "      <th>count</th>\n",
       "      <th>median</th>\n",
       "      <th>mean</th>\n",
       "      <th>std</th>\n",
       "    </tr>\n",
       "    <tr>\n",
       "      <th>state</th>\n",
       "      <th></th>\n",
       "      <th></th>\n",
       "      <th></th>\n",
       "      <th></th>\n",
       "    </tr>\n",
       "  </thead>\n",
       "  <tbody>\n",
       "    <tr>\n",
       "      <th>Lagos</th>\n",
       "      <td>7002</td>\n",
       "      <td>80000000.0</td>\n",
       "      <td>1.075069e+08</td>\n",
       "      <td>7.936040e+07</td>\n",
       "    </tr>\n",
       "    <tr>\n",
       "      <th>Abuja</th>\n",
       "      <td>2529</td>\n",
       "      <td>75000000.0</td>\n",
       "      <td>1.022719e+08</td>\n",
       "      <td>7.548095e+07</td>\n",
       "    </tr>\n",
       "    <tr>\n",
       "      <th>Imo</th>\n",
       "      <td>205</td>\n",
       "      <td>60000000.0</td>\n",
       "      <td>7.875610e+07</td>\n",
       "      <td>5.842222e+07</td>\n",
       "    </tr>\n",
       "    <tr>\n",
       "      <th>Rivers</th>\n",
       "      <td>383</td>\n",
       "      <td>65000000.0</td>\n",
       "      <td>7.828803e+07</td>\n",
       "      <td>5.468043e+07</td>\n",
       "    </tr>\n",
       "    <tr>\n",
       "      <th>Delta</th>\n",
       "      <td>52</td>\n",
       "      <td>50000000.0</td>\n",
       "      <td>7.442308e+07</td>\n",
       "      <td>6.227055e+07</td>\n",
       "    </tr>\n",
       "    <tr>\n",
       "      <th>Enugu</th>\n",
       "      <td>115</td>\n",
       "      <td>55000000.0</td>\n",
       "      <td>6.742739e+07</td>\n",
       "      <td>4.637902e+07</td>\n",
       "    </tr>\n",
       "    <tr>\n",
       "      <th>Oyo</th>\n",
       "      <td>277</td>\n",
       "      <td>45000000.0</td>\n",
       "      <td>6.088718e+07</td>\n",
       "      <td>4.599639e+07</td>\n",
       "    </tr>\n",
       "    <tr>\n",
       "      <th>Edo</th>\n",
       "      <td>78</td>\n",
       "      <td>40000000.0</td>\n",
       "      <td>5.711538e+07</td>\n",
       "      <td>5.085579e+07</td>\n",
       "    </tr>\n",
       "    <tr>\n",
       "      <th>Akwa Ibom</th>\n",
       "      <td>19</td>\n",
       "      <td>35000000.0</td>\n",
       "      <td>5.678947e+07</td>\n",
       "      <td>3.712379e+07</td>\n",
       "    </tr>\n",
       "    <tr>\n",
       "      <th>Kaduna</th>\n",
       "      <td>14</td>\n",
       "      <td>36500000.0</td>\n",
       "      <td>4.678571e+07</td>\n",
       "      <td>3.096693e+07</td>\n",
       "    </tr>\n",
       "    <tr>\n",
       "      <th>Ogun</th>\n",
       "      <td>240</td>\n",
       "      <td>35000000.0</td>\n",
       "      <td>4.213458e+07</td>\n",
       "      <td>2.447852e+07</td>\n",
       "    </tr>\n",
       "  </tbody>\n",
       "</table>\n",
       "</div>"
      ],
      "text/plain": [
       "           count      median          mean           std\n",
       "state                                                   \n",
       "Lagos       7002  80000000.0  1.075069e+08  7.936040e+07\n",
       "Abuja       2529  75000000.0  1.022719e+08  7.548095e+07\n",
       "Imo          205  60000000.0  7.875610e+07  5.842222e+07\n",
       "Rivers       383  65000000.0  7.828803e+07  5.468043e+07\n",
       "Delta         52  50000000.0  7.442308e+07  6.227055e+07\n",
       "Enugu        115  55000000.0  6.742739e+07  4.637902e+07\n",
       "Oyo          277  45000000.0  6.088718e+07  4.599639e+07\n",
       "Edo           78  40000000.0  5.711538e+07  5.085579e+07\n",
       "Akwa Ibom     19  35000000.0  5.678947e+07  3.712379e+07\n",
       "Kaduna        14  36500000.0  4.678571e+07  3.096693e+07\n",
       "Ogun         240  35000000.0  4.213458e+07  2.447852e+07"
      ]
     },
     "execution_count": 41,
     "metadata": {},
     "output_type": "execute_result"
    }
   ],
   "source": [
    "# Aggregation on state\n",
    "df_agg = df_dup.groupby(\"state\")[\"price\"].agg([\"count\", \"median\", \"mean\", \"std\"]).sort_values(ascending=False, by=\"mean\")\n",
    "\n",
    "# Aggregation with state with more than 10 records\n",
    "df_agg = df_agg[df_agg[\"count\"] > 10]\n",
    "\n",
    "df_agg"
   ]
  },
  {
   "cell_type": "code",
   "execution_count": 42,
   "metadata": {
    "execution": {
     "iopub.execute_input": "2023-12-15T18:28:50.199549Z",
     "iopub.status.busy": "2023-12-15T18:28:50.198619Z",
     "iopub.status.idle": "2023-12-15T18:28:50.654088Z",
     "shell.execute_reply": "2023-12-15T18:28:50.653066Z",
     "shell.execute_reply.started": "2023-12-15T18:28:50.19951Z"
    },
    "id": "R_ovBFmCajLu",
    "trusted": true
   },
   "outputs": [
    {
     "data": {
      "image/png": "[encoded data removed]",
      "text/plain": [
       "<Figure size 1200x500 with 1 Axes>"
      ]
     },
     "metadata": {},
     "output_type": "display_data"
    }
   ],
   "source": [
    "#construct a barplot showing the mean and median house prices for each state.\n",
    "bar_data = pd.melt(df_agg.reset_index().iloc[:,[0,2,3]], id_vars=\"state\")\n",
    "sns.barplot(x=bar_data[\"state\"], y=bar_data[\"value\"]/1e6, hue=bar_data[\"variable\"], palette=sns.palettes.color_palette(\"gray\", 2))\n",
    "plt.xlabel(\"State\")\n",
    "plt.ylabel(\"Price (in million naira)\")\n",
    "plt.title(\"Barplot of the Average House Prices in Nigeria\");"
   ]
  },
  {
   "cell_type": "markdown",
   "metadata": {
    "id": "VZR2WD2_ajLv"
   },
   "source": [
    "The barplot shows that Lagos State have the highest overall mean and median apartment price. Lagos is closely followed by Abuja and Anambara State. The States with the highest average housing price are among the Nigeria states with the most GDP according to [Wikipedia Nigeria GDP by state](https://en.wikipedia.org/wiki/List_of_Nigerian_states_by_GDP)."
   ]
  },
  {
   "cell_type": "markdown",
   "metadata": {
    "id": "ONjTWqHIajLv"
   },
   "source": [
    "#### Housing Price: State and Town\n",
    "Lets construct a barchat showing the town with the highest average house price for the top two states"
   ]
  },
  {
   "cell_type": "code",
   "execution_count": 43,
   "metadata": {
    "execution": {
     "iopub.execute_input": "2023-12-15T18:30:11.698994Z",
     "iopub.status.busy": "2023-12-15T18:30:11.698512Z",
     "iopub.status.idle": "2023-12-15T18:30:12.123338Z",
     "shell.execute_reply": "2023-12-15T18:30:12.12222Z",
     "shell.execute_reply.started": "2023-12-15T18:30:11.698949Z"
    },
    "id": "slJ9GQPvajLw",
    "trusted": true
   },
   "outputs": [
    {
     "data": {
      "image/png": "[encoded data removed]",
      "text/plain": [
       "<Figure size 1300x500 with 1 Axes>"
      ]
     },
     "metadata": {},
     "output_type": "display_data"
    }
   ],
   "source": [
    "#Mean house price in Lagos State\n",
    "\n",
    "df_lagos = df_dup[df_dup[\"state\"]==\"Lagos\"]\n",
    "\n",
    "fig, ax = plt.subplots(figsize=(13,5))\n",
    "((df_lagos.groupby([\"town\"])[\"price\"].mean())/1e6).sort_values().tail(10).plot.barh(ax=ax, ylabel=\"Town\", xlabel=\"Mean Price (in million naira)\",\n",
    "                                                                           fontsize=10, title=\"Barplot of the Top 10 Mean Housing Price in Lagos Towns\",\n",
    "                                                                           color=\"silver\")\n",
    "plt.tight_layout();"
   ]
  },
  {
   "cell_type": "markdown",
   "metadata": {
    "id": "PPfuD35gajLx"
   },
   "source": [
    "Ikoyi have the highest mean apartment price in Lagos state which is roughly `250 million naira`."
   ]
  },
  {
   "cell_type": "code",
   "execution_count": 44,
   "metadata": {
    "execution": {
     "iopub.execute_input": "2023-12-15T18:30:57.139075Z",
     "iopub.status.busy": "2023-12-15T18:30:57.13863Z",
     "iopub.status.idle": "2023-12-15T18:30:57.55272Z",
     "shell.execute_reply": "2023-12-15T18:30:57.55186Z",
     "shell.execute_reply.started": "2023-12-15T18:30:57.13904Z"
    },
    "id": "-_o2kOX6ajLx",
    "trusted": true
   },
   "outputs": [
    {
     "data": {
      "image/png": "[encoded data removed]",
      "text/plain": [
       "<Figure size 1300x500 with 1 Axes>"
      ]
     },
     "metadata": {},
     "output_type": "display_data"
    }
   ],
   "source": [
    "#Mean house price in Abuja FCT\n",
    "df_abuja = df_dup[df_dup[\"state\"]==\"Abuja\"]\n",
    "\n",
    "fig, ax = plt.subplots(figsize=(13,5))\n",
    "(((df_abuja.groupby([\"town\"])[\"price\"].mean())/1e6).sort_values().tail(10)\n",
    " .plot.barh(ax=ax, ylabel=\"Town\", xlabel=\"Mean Price (in million naira)\",\n",
    "            fontsize=10, title=\"Barplot of the Top 10 Mean Housing Price in Abuja Towns\",\n",
    "            color=\"silver\"))\n",
    "plt.tight_layout();"
   ]
  },
  {
   "cell_type": "markdown",
   "metadata": {
    "id": "5Trwrbr4ajLy"
   },
   "source": [
    "#### Housing Price: Space and Title"
   ]
  },
  {
   "cell_type": "code",
   "execution_count": 45,
   "metadata": {
    "execution": {
     "iopub.execute_input": "2023-12-15T18:31:22.383119Z",
     "iopub.status.busy": "2023-12-15T18:31:22.382111Z",
     "iopub.status.idle": "2023-12-15T18:31:22.785221Z",
     "shell.execute_reply": "2023-12-15T18:31:22.784173Z",
     "shell.execute_reply.started": "2023-12-15T18:31:22.383065Z"
    },
    "id": "hQ9pRqhgajLy",
    "trusted": true
   },
   "outputs": [
    {
     "data": {
      "image/png": "[encoded data removed]",
      "text/plain": [
       "<Figure size 800x600 with 2 Axes>"
      ]
     },
     "metadata": {},
     "output_type": "display_data"
    }
   ],
   "source": [
    "# correlation between space and house price\n",
    "correlation_matrix = df_dup.select_dtypes(\"number\").corr()\n",
    "fig, ax = plt.subplots(figsize=(8,6))\n",
    "sns.heatmap(correlation_matrix, cmap=\"gray_r\", annot=True);"
   ]
  },
  {
   "cell_type": "markdown",
   "metadata": {
    "id": "XsJe5Gh-ajLz"
   },
   "source": [
    "The heatmap shows that there is a weak positive linear relationship between space and house price. Also, bedrooms, toilets, and bathrooms are highly correlated which is expected."
   ]
  },
  {
   "cell_type": "markdown",
   "metadata": {
    "id": "-KzdrC8IajL0"
   },
   "source": [
    "#### The distribution of housing title"
   ]
  },
  {
   "cell_type": "code",
   "execution_count": 46,
   "metadata": {
    "execution": {
     "iopub.execute_input": "2023-12-15T18:33:31.772815Z",
     "iopub.status.busy": "2023-12-15T18:33:31.772367Z",
     "iopub.status.idle": "2023-12-15T18:33:32.245093Z",
     "shell.execute_reply": "2023-12-15T18:33:32.243384Z",
     "shell.execute_reply.started": "2023-12-15T18:33:31.77278Z"
    },
    "id": "28Mqra0IajL0",
    "trusted": true
   },
   "outputs": [
    {
     "data": {
      "image/png": "[encoded data removed]",
      "text/plain": [
       "<Figure size 1200x500 with 1 Axes>"
      ]
     },
     "metadata": {},
     "output_type": "display_data"
    }
   ],
   "source": [
    "#barplot of the distribution of house title\n",
    "df_dup[\"title\"].value_counts(normalize=True).sort_values().plot.barh(xlabel=\"Frequency (count)\", color=\"silver\",\n",
    "                                                                 ylabel=\"Title\", title=\"Barplot of House Title\");"
   ]
  },
  {
   "cell_type": "markdown",
   "metadata": {
    "id": "9VNyrFb-ajL1"
   },
   "source": [
    "Detached Duplex is the most frequent housing title in the dataset, accounting for approximately `60%` of the dataset."
   ]
  },
  {
   "cell_type": "markdown",
   "metadata": {
    "id": "BhXczzymajL1"
   },
   "source": [
    "#### House title and house price"
   ]
  },
  {
   "cell_type": "code",
   "execution_count": 47,
   "metadata": {
    "execution": {
     "iopub.execute_input": "2023-12-15T18:34:39.338534Z",
     "iopub.status.busy": "2023-12-15T18:34:39.338108Z",
     "iopub.status.idle": "2023-12-15T18:34:39.646548Z",
     "shell.execute_reply": "2023-12-15T18:34:39.64541Z",
     "shell.execute_reply.started": "2023-12-15T18:34:39.3385Z"
    },
    "id": "u9RgPjudajL2",
    "trusted": true
   },
   "outputs": [
    {
     "data": {
      "image/png": "[encoded data removed]",
      "text/plain": [
       "<Figure size 1200x500 with 1 Axes>"
      ]
     },
     "metadata": {},
     "output_type": "display_data"
    }
   ],
   "source": [
    "#barplot of house title and mean house price\n",
    "\n",
    "(((df_dup.groupby(\"title\")[\"price\"].mean())/1e6).sort_values()\n",
    " .plot.barh(xlabel=\"Mean Price (in million naira)\", ylabel=\"Title\", color=\"silver\",\n",
    "            title=\"Mean House Price and House Title\"));"
   ]
  },
  {
   "cell_type": "markdown",
   "metadata": {
    "id": "0nuj6H_zajL2"
   },
   "source": [
    "The average housing price vary significantly across the levels of house titles. `Detached Duplex` is expected to be about 3 times as expensive as a `Detached Bungalow` on the average, keeping other factors constant."
   ]
  },
  {
   "cell_type": "markdown",
   "metadata": {
    "id": "c_f1qTRqajL3"
   },
   "source": [
    "## Predicting Lagos state House Price"
   ]
  },
  {
   "cell_type": "code",
   "execution_count": 48,
   "metadata": {
    "execution": {
     "iopub.execute_input": "2023-12-15T18:36:17.260028Z",
     "iopub.status.busy": "2023-12-15T18:36:17.259602Z",
     "iopub.status.idle": "2023-12-15T18:36:17.281939Z",
     "shell.execute_reply": "2023-12-15T18:36:17.28092Z",
     "shell.execute_reply.started": "2023-12-15T18:36:17.259999Z"
    },
    "id": "RyLMH9B2ajL3",
    "trusted": true
   },
   "outputs": [
    {
     "name": "stdout",
     "output_type": "stream",
     "text": [
      "(7002, 7)\n"
     ]
    },
    {
     "data": {
      "text/html": [
       "<div>\n",
       "<style scoped>\n",
       "    .dataframe tbody tr th:only-of-type {\n",
       "        vertical-align: middle;\n",
       "    }\n",
       "\n",
       "    .dataframe tbody tr th {\n",
       "        vertical-align: top;\n",
       "    }\n",
       "\n",
       "    .dataframe thead th {\n",
       "        text-align: right;\n",
       "    }\n",
       "</style>\n",
       "<table border=\"1\" class=\"dataframe\">\n",
       "  <thead>\n",
       "    <tr style=\"text-align: right;\">\n",
       "      <th></th>\n",
       "      <th>bedrooms</th>\n",
       "      <th>bathrooms</th>\n",
       "      <th>toilets</th>\n",
       "      <th>parking_space</th>\n",
       "      <th>title</th>\n",
       "      <th>town</th>\n",
       "      <th>price</th>\n",
       "    </tr>\n",
       "  </thead>\n",
       "  <tbody>\n",
       "    <tr>\n",
       "      <th>2</th>\n",
       "      <td>4.0</td>\n",
       "      <td>5.0</td>\n",
       "      <td>5.0</td>\n",
       "      <td>4.0</td>\n",
       "      <td>Detached Duplex</td>\n",
       "      <td>Lekki</td>\n",
       "      <td>120000000.0</td>\n",
       "    </tr>\n",
       "    <tr>\n",
       "      <th>3</th>\n",
       "      <td>4.0</td>\n",
       "      <td>4.0</td>\n",
       "      <td>5.0</td>\n",
       "      <td>6.0</td>\n",
       "      <td>Detached Duplex</td>\n",
       "      <td>Ajah</td>\n",
       "      <td>40000000.0</td>\n",
       "    </tr>\n",
       "    <tr>\n",
       "      <th>4</th>\n",
       "      <td>4.0</td>\n",
       "      <td>4.0</td>\n",
       "      <td>5.0</td>\n",
       "      <td>2.0</td>\n",
       "      <td>Semi Detached Duplex</td>\n",
       "      <td>Lekki</td>\n",
       "      <td>75000000.0</td>\n",
       "    </tr>\n",
       "    <tr>\n",
       "      <th>6</th>\n",
       "      <td>4.0</td>\n",
       "      <td>5.0</td>\n",
       "      <td>5.0</td>\n",
       "      <td>4.0</td>\n",
       "      <td>Detached Duplex</td>\n",
       "      <td>Lekki</td>\n",
       "      <td>65000000.0</td>\n",
       "    </tr>\n",
       "    <tr>\n",
       "      <th>8</th>\n",
       "      <td>1.0</td>\n",
       "      <td>1.0</td>\n",
       "      <td>1.0</td>\n",
       "      <td>1.0</td>\n",
       "      <td>Detached Duplex</td>\n",
       "      <td>Lekki</td>\n",
       "      <td>200000000.0</td>\n",
       "    </tr>\n",
       "  </tbody>\n",
       "</table>\n",
       "</div>"
      ],
      "text/plain": [
       "   bedrooms  bathrooms  toilets  parking_space                 title   town  \\\n",
       "2       4.0        5.0      5.0            4.0       Detached Duplex  Lekki   \n",
       "3       4.0        4.0      5.0            6.0       Detached Duplex   Ajah   \n",
       "4       4.0        4.0      5.0            2.0  Semi Detached Duplex  Lekki   \n",
       "6       4.0        5.0      5.0            4.0       Detached Duplex  Lekki   \n",
       "8       1.0        1.0      1.0            1.0       Detached Duplex  Lekki   \n",
       "\n",
       "         price  \n",
       "2  120000000.0  \n",
       "3   40000000.0  \n",
       "4   75000000.0  \n",
       "6   65000000.0  \n",
       "8  200000000.0  "
      ]
     },
     "execution_count": 48,
     "metadata": {},
     "output_type": "execute_result"
    }
   ],
   "source": [
    "# Extract Lagos state records\n",
    "\n",
    "lagos_df = df_dup[df_dup[\"state\"] == \"Lagos\"].drop(columns=\"state\")\n",
    "print(lagos_df.shape)\n",
    "lagos_df.head()"
   ]
  },
  {
   "cell_type": "markdown",
   "metadata": {
    "id": "guPHK_EcajL4"
   },
   "source": [
    "#### Merging towns with fewer record\n",
    "Lets categorize towns with records less than 20 as `Others`"
   ]
  },
  {
   "cell_type": "code",
   "execution_count": 49,
   "metadata": {
    "execution": {
     "iopub.execute_input": "2023-12-15T18:36:46.357492Z",
     "iopub.status.busy": "2023-12-15T18:36:46.357077Z",
     "iopub.status.idle": "2023-12-15T18:36:46.367756Z",
     "shell.execute_reply": "2023-12-15T18:36:46.366432Z",
     "shell.execute_reply.started": "2023-12-15T18:36:46.357452Z"
    },
    "id": "_skbVYU8ajL4",
    "trusted": true
   },
   "outputs": [
    {
     "data": {
      "text/plain": [
       "town\n",
       "Lekki                   3115\n",
       "Ajah                    1115\n",
       "Ikeja                    465\n",
       "Ikoyi                    300\n",
       "Ibeju Lekki              283\n",
       "Victoria Island (VI)     250\n",
       "Magodo                   246\n",
       "Isheri North             143\n",
       "Surulere                 115\n",
       "Ikorodu                  106\n",
       "Isolo                     89\n",
       "Alimosho                  85\n",
       "Yaba                      78\n",
       "Agege                     77\n",
       "Ojodu                     61\n",
       "Maryland                  59\n",
       "Gbagada                   52\n",
       "Ikotun                    48\n",
       "Ipaja                     45\n",
       "Ogudu                     39\n",
       "Amuwo Odofin              37\n",
       "Ifako-Ijaiye              31\n",
       "Ilupeju                   29\n",
       "Ojo                       28\n",
       "Isheri                    15\n",
       "Ketu                      14\n",
       "Shomolu                   12\n",
       "Oshodi                    11\n",
       "Ejigbo                     9\n",
       "Ayobo                      7\n",
       "Idimu                      7\n",
       "Apapa                      6\n",
       "Lagos Island               4\n",
       "Badagry                    4\n",
       "Kosofe                     3\n",
       "Mushin                     3\n",
       "Agbara-Igbesa              3\n",
       "Ijaiye                     2\n",
       "Ojota                      1\n",
       "Epe                        1\n",
       "Egbe                       1\n",
       "Oke-Odo                    1\n",
       "Orile                      1\n",
       "Ijesha                     1\n",
       "Name: count, dtype: int64"
      ]
     },
     "execution_count": 49,
     "metadata": {},
     "output_type": "execute_result"
    }
   ],
   "source": [
    "#20 towns in Lagos with the least records\n",
    "lagos_df[\"town\"].value_counts().sort_values(ascending=False)"
   ]
  },
  {
   "cell_type": "markdown",
   "metadata": {
    "id": "FVE1SoVqajL5"
   },
   "source": [
    "Lets write a function that takes towns with less than 20 records and categorize them as `Others`"
   ]
  },
  {
   "cell_type": "code",
   "execution_count": 50,
   "metadata": {
    "execution": {
     "iopub.execute_input": "2023-12-15T18:37:19.579961Z",
     "iopub.status.busy": "2023-12-15T18:37:19.579534Z",
     "iopub.status.idle": "2023-12-15T18:37:19.586314Z",
     "shell.execute_reply": "2023-12-15T18:37:19.584965Z",
     "shell.execute_reply.started": "2023-12-15T18:37:19.57993Z"
    },
    "id": "rDdEx3IzajL6",
    "trusted": true
   },
   "outputs": [],
   "source": [
    "def categorize_as_other(state, state_df):\n",
    "    # get the counts of each town\n",
    "\n",
    "    state_count = state_df[\"town\"].value_counts()\n",
    "\n",
    "    # get towns less than 20\n",
    "    less_than_20_town = state_count[state_count < 20].index.to_list()\n",
    "    dict_less_than_20_town = {town: f\"Others_{state.lower()}\" for town in less_than_20_town}\n",
    "\n",
    "    # replacing each town with Others\n",
    "    state_df.loc[:,\"town\"] = state_df[\"town\"].replace(dict_less_than_20_town)\n",
    "\n",
    "    return state_df"
   ]
  },
  {
   "cell_type": "code",
   "execution_count": 51,
   "metadata": {
    "execution": {
     "iopub.execute_input": "2023-12-15T18:37:28.403988Z",
     "iopub.status.busy": "2023-12-15T18:37:28.403578Z",
     "iopub.status.idle": "2023-12-15T18:37:28.424063Z",
     "shell.execute_reply": "2023-12-15T18:37:28.423276Z",
     "shell.execute_reply.started": "2023-12-15T18:37:28.403954Z"
    },
    "id": "PkgGNV5HajL6",
    "trusted": true
   },
   "outputs": [
    {
     "data": {
      "text/plain": [
       "array(['Lekki', 'Ajah', 'Victoria Island (VI)', 'Ikeja', 'Magodo', 'Yaba',\n",
       "       'Agege', 'Ikorodu', 'Isheri North', 'Others_lagos', 'Ikoyi',\n",
       "       'Ipaja', 'Ibeju Lekki', 'Ojodu', 'Ogudu', 'Isolo', 'Surulere',\n",
       "       'Alimosho', 'Ikotun', 'Maryland', 'Gbagada', 'Ifako-Ijaiye', 'Ojo',\n",
       "       'Ilupeju', 'Amuwo Odofin'], dtype=object)"
      ]
     },
     "execution_count": 51,
     "metadata": {},
     "output_type": "execute_result"
    }
   ],
   "source": [
    "#Categorizing towns with less than 20 records as Others\n",
    "lagos_df = categorize_as_other(\"lagos\", lagos_df)\n",
    "lagos_df[\"town\"].unique()"
   ]
  },
  {
   "cell_type": "markdown",
   "metadata": {
    "id": "FvIQJN87ajL7"
   },
   "source": [
    "## Modeling Lagos House Price"
   ]
  },
  {
   "cell_type": "markdown",
   "metadata": {
    "id": "Dw50vPTNajL7"
   },
   "source": [
    "#### Splitting data into training and test sets"
   ]
  },
  {
   "cell_type": "code",
   "execution_count": 52,
   "metadata": {
    "execution": {
     "iopub.execute_input": "2023-12-15T18:38:06.200243Z",
     "iopub.status.busy": "2023-12-15T18:38:06.19947Z",
     "iopub.status.idle": "2023-12-15T18:38:06.209892Z",
     "shell.execute_reply": "2023-12-15T18:38:06.208714Z",
     "shell.execute_reply.started": "2023-12-15T18:38:06.200205Z"
    },
    "id": "sUdTDJKKajL8",
    "trusted": true
   },
   "outputs": [],
   "source": [
    "X_lag, y_lag = lagos_df.drop(columns=\"price\"), lagos_df[\"price\"]\n",
    "\n",
    "X_train_lag, X_test_lag, y_train_lag, y_test_lag = train_test_split(X_lag, y_lag, test_size=0.2, random_state=42)"
   ]
  },
  {
   "cell_type": "markdown",
   "metadata": {
    "id": "wghtH6G4ajL8"
   },
   "source": [
    "#### Baseline Model"
   ]
  },
  {
   "cell_type": "code",
   "execution_count": 53,
   "metadata": {
    "execution": {
     "iopub.execute_input": "2023-12-15T18:38:28.284084Z",
     "iopub.status.busy": "2023-12-15T18:38:28.283708Z",
     "iopub.status.idle": "2023-12-15T18:38:28.293443Z",
     "shell.execute_reply": "2023-12-15T18:38:28.292599Z",
     "shell.execute_reply.started": "2023-12-15T18:38:28.284055Z"
    },
    "id": "ajF48zJnajL9",
    "trusted": true
   },
   "outputs": [
    {
     "name": "stdout",
     "output_type": "stream",
     "text": [
      "Baseline R-square: 0.0\n",
      "Baseline Model MAE (training): N63,224,411.33\n",
      "Baseline Model MAE (test): N62,446,747.51\n"
     ]
    }
   ],
   "source": [
    "y_pred_base_lag = [y_train_lag.mean()] * len(y_train_lag)\n",
    "\n",
    "print(f\"Baseline R-square: {r2_score(y_train_lag, y_pred_base_lag)}\")\n",
    "print(f\"Baseline Model MAE (training): N{mean_absolute_error(y_train_lag, y_pred_base_lag):,.2f}\")\n",
    "print(f\"Baseline Model MAE (test): N{mean_absolute_error(y_test_lag, [y_train_lag.mean()] * len(y_test_lag)):,.2f}\")"
   ]
  },
  {
   "cell_type": "markdown",
   "metadata": {
    "id": "WLpyjM2KajL-"
   },
   "source": [
    "We now build our regression model that can better the`Baseline Model`"
   ]
  },
  {
   "cell_type": "markdown",
   "metadata": {
    "id": "V0lWZivbajL-"
   },
   "source": [
    "#### Model Selection: GridSearchCV\n",
    "\n",
    "Define a reuseable function call `grid_search_cv` to help with the grid search."
   ]
  },
  {
   "cell_type": "code",
   "execution_count": 54,
   "metadata": {
    "execution": {
     "iopub.execute_input": "2023-12-15T18:39:45.329048Z",
     "iopub.status.busy": "2023-12-15T18:39:45.328404Z",
     "iopub.status.idle": "2023-12-15T18:39:45.340927Z",
     "shell.execute_reply": "2023-12-15T18:39:45.340039Z",
     "shell.execute_reply.started": "2023-12-15T18:39:45.329013Z"
    },
    "id": "0vWSk6QHajL_",
    "trusted": true
   },
   "outputs": [],
   "source": [
    "# define function for grid search\n",
    "\n",
    "def grid_search_cv(X_train, X_test, y_train, y_test):\n",
    "\n",
    "    models_dict = {\n",
    "                    \"Ridge\": {\n",
    "                        \"params\": { \"ridge__alpha\": [1e-5, 1e-2, 1e-1, 1, 5, 10]},\n",
    "                        \"estimator\": make_pipeline(OneHotEncoder(), Ridge(random_state=42))\n",
    "                    },\n",
    "                    \"DecisionTreeRegressor\":{\n",
    "                        \"params\":{\"decisiontreeregressor__max_depth\": [2, 4, 10, 20] },\n",
    "                        \"estimator\": make_pipeline(OrdinalEncoder(), DecisionTreeRegressor(random_state=42))\n",
    "                    },\n",
    "                        \"RandomForestRegressor\":{\n",
    "                        \"params\": {\"randomforestregressor__max_depth\": [2, 4, 10, 50],\n",
    "                                \"randomforestregressor__n_estimators\": [5, 20, 50, 100, 200]},\n",
    "                        \"estimator\": make_pipeline(OrdinalEncoder(), RandomForestRegressor(random_state=42, n_jobs=-1))\n",
    "                    },\n",
    "                        \"GradientBoostingRegressor\":{\n",
    "                        \"params\":{\"gradientboostingregressor__max_depth\": [2, 4, 10, 50],\n",
    "                                \"gradientboostingregressor__alpha\": [1e-10, 1e-2, 0.5, 0.9],\n",
    "                                \"gradientboostingregressor__n_estimators\": [5, 20, 50, 100, 200]},\n",
    "                        \"estimator\": make_pipeline(OrdinalEncoder(), GradientBoostingRegressor(random_state=42))\n",
    "                    },\n",
    "                    \"SVR\": {\n",
    "                        \"params\": {\n",
    "                            \"svr__kernel\": [\"linear\", \"poly\", \"rbf\", \"sigmoid\"]},\n",
    "                            \"estimator\": make_pipeline(OrdinalEncoder(), SVR())\n",
    "                    },\n",
    "                    \"KNeighborsRegressor\": {\n",
    "                        \"params\": {\n",
    "                            \"kneighborsregressor__n_neighbors\": [3, 5, 7, 10, 15, 30],\n",
    "                            \"kneighborsregressor__weights\": [\"uniform\", \"distance\"]},\n",
    "                            \"estimator\": make_pipeline(OneHotEncoder(), KNeighborsRegressor())\n",
    "                    }\n",
    "                }\n",
    "\n",
    "\n",
    "    model_eval_dict = {\"model_name\":[], \"best_parameter\":[], \"train_mae\":[], \"test_mae\":[], \"r_square\":[]}\n",
    "\n",
    "    for each_model in models_dict:\n",
    "        each_model_dict = models_dict[each_model]\n",
    "        params = each_model_dict[\"params\"]\n",
    "        estimator=each_model_dict[\"estimator\"]\n",
    "        model_lag = GridSearchCV(param_grid=params, estimator=estimator, cv=5, scoring=\"neg_mean_absolute_error\")\n",
    "        model_lag.fit(X_train, y_train)\n",
    "\n",
    "        test_mae = mean_absolute_error(y_test, model_lag.predict(X_test)).astype(int)\n",
    "\n",
    "        model_eval_dict[\"model_name\"].append(each_model)\n",
    "        model_eval_dict[\"best_parameter\"].append(model_lag.best_params_)\n",
    "        model_eval_dict[\"train_mae\"].append(np.abs(model_lag.best_score_).astype(int))\n",
    "        model_eval_dict[\"test_mae\"].append(test_mae)\n",
    "        model_eval_dict[\"r_square\"].append(r2_score(y_train, model_lag.predict(X_train)))\n",
    "\n",
    "    model_eval_df = pd.DataFrame(model_eval_dict).set_index(\"model_name\")\n",
    "\n",
    "\n",
    "    return model_eval_df"
   ]
  },
  {
   "cell_type": "code",
   "execution_count": 55,
   "metadata": {
    "execution": {
     "iopub.execute_input": "2023-12-15T18:39:55.213488Z",
     "iopub.status.busy": "2023-12-15T18:39:55.212482Z",
     "iopub.status.idle": "2023-12-15T18:43:31.123073Z",
     "shell.execute_reply": "2023-12-15T18:43:31.122147Z",
     "shell.execute_reply.started": "2023-12-15T18:39:55.213453Z"
    },
    "id": "2t5b6T2UajL_",
    "trusted": true
   },
   "outputs": [
    {
     "data": {
      "text/html": [
       "<div>\n",
       "<style scoped>\n",
       "    .dataframe tbody tr th:only-of-type {\n",
       "        vertical-align: middle;\n",
       "    }\n",
       "\n",
       "    .dataframe tbody tr th {\n",
       "        vertical-align: top;\n",
       "    }\n",
       "\n",
       "    .dataframe thead th {\n",
       "        text-align: right;\n",
       "    }\n",
       "</style>\n",
       "<table border=\"1\" class=\"dataframe\">\n",
       "  <thead>\n",
       "    <tr style=\"text-align: right;\">\n",
       "      <th></th>\n",
       "      <th>best_parameter</th>\n",
       "      <th>train_mae</th>\n",
       "      <th>test_mae</th>\n",
       "      <th>r_square</th>\n",
       "    </tr>\n",
       "    <tr>\n",
       "      <th>model_name</th>\n",
       "      <th></th>\n",
       "      <th></th>\n",
       "      <th></th>\n",
       "      <th></th>\n",
       "    </tr>\n",
       "  </thead>\n",
       "  <tbody>\n",
       "    <tr>\n",
       "      <th>Ridge</th>\n",
       "      <td>{'ridge__alpha': 5}</td>\n",
       "      <td>40759041</td>\n",
       "      <td>41701145</td>\n",
       "      <td>0.506908</td>\n",
       "    </tr>\n",
       "    <tr>\n",
       "      <th>DecisionTreeRegressor</th>\n",
       "      <td>{'decisiontreeregressor__max_depth': 10}</td>\n",
       "      <td>40489205</td>\n",
       "      <td>40586661</td>\n",
       "      <td>0.576903</td>\n",
       "    </tr>\n",
       "    <tr>\n",
       "      <th>RandomForestRegressor</th>\n",
       "      <td>{'randomforestregressor__max_depth': 10, 'rand...</td>\n",
       "      <td>39463313</td>\n",
       "      <td>40086722</td>\n",
       "      <td>0.598132</td>\n",
       "    </tr>\n",
       "    <tr>\n",
       "      <th>GradientBoostingRegressor</th>\n",
       "      <td>{'gradientboostingregressor__alpha': 1e-10, 'g...</td>\n",
       "      <td>38812872</td>\n",
       "      <td>39432943</td>\n",
       "      <td>0.583495</td>\n",
       "    </tr>\n",
       "    <tr>\n",
       "      <th>SVR</th>\n",
       "      <td>{'svr__kernel': 'linear'}</td>\n",
       "      <td>59131276</td>\n",
       "      <td>57615929</td>\n",
       "      <td>-0.120524</td>\n",
       "    </tr>\n",
       "    <tr>\n",
       "      <th>KNeighborsRegressor</th>\n",
       "      <td>{'kneighborsregressor__n_neighbors': 10, 'knei...</td>\n",
       "      <td>44616043</td>\n",
       "      <td>43588118</td>\n",
       "      <td>0.657766</td>\n",
       "    </tr>\n",
       "  </tbody>\n",
       "</table>\n",
       "</div>"
      ],
      "text/plain": [
       "                                                              best_parameter  \\\n",
       "model_name                                                                     \n",
       "Ridge                                                    {'ridge__alpha': 5}   \n",
       "DecisionTreeRegressor               {'decisiontreeregressor__max_depth': 10}   \n",
       "RandomForestRegressor      {'randomforestregressor__max_depth': 10, 'rand...   \n",
       "GradientBoostingRegressor  {'gradientboostingregressor__alpha': 1e-10, 'g...   \n",
       "SVR                                                {'svr__kernel': 'linear'}   \n",
       "KNeighborsRegressor        {'kneighborsregressor__n_neighbors': 10, 'knei...   \n",
       "\n",
       "                           train_mae  test_mae  r_square  \n",
       "model_name                                                \n",
       "Ridge                       40759041  41701145  0.506908  \n",
       "DecisionTreeRegressor       40489205  40586661  0.576903  \n",
       "RandomForestRegressor       39463313  40086722  0.598132  \n",
       "GradientBoostingRegressor   38812872  39432943  0.583495  \n",
       "SVR                         59131276  57615929 -0.120524  \n",
       "KNeighborsRegressor         44616043  43588118  0.657766  "
      ]
     },
     "execution_count": 55,
     "metadata": {},
     "output_type": "execute_result"
    }
   ],
   "source": [
    "model_eval_df_lag = grid_search_cv(X_train_lag, X_test_lag, y_train_lag, y_test_lag)\n",
    "model_eval_df_lag"
   ]
  },
  {
   "cell_type": "markdown",
   "metadata": {
    "id": "cKBr2bsPajMA"
   },
   "source": [
    "All the regression models did well compared to the `baseline model`. However, `SVR` did poorly compared to other models. `GradientBoostingRegressor` fits the `lagos_df` well compared to other models since it has the least `mae`."
   ]
  },
  {
   "cell_type": "code",
   "execution_count": 56,
   "metadata": {
    "execution": {
     "iopub.execute_input": "2023-12-15T18:43:31.125469Z",
     "iopub.status.busy": "2023-12-15T18:43:31.124521Z",
     "iopub.status.idle": "2023-12-15T18:43:31.133344Z",
     "shell.execute_reply": "2023-12-15T18:43:31.132143Z",
     "shell.execute_reply.started": "2023-12-15T18:43:31.125416Z"
    },
    "id": "5nhscLMLajMB",
    "trusted": true
   },
   "outputs": [
    {
     "data": {
      "text/plain": [
       "{'gradientboostingregressor__alpha': 1e-10,\n",
       " 'gradientboostingregressor__max_depth': 4,\n",
       " 'gradientboostingregressor__n_estimators': 200}"
      ]
     },
     "execution_count": 56,
     "metadata": {},
     "output_type": "execute_result"
    }
   ],
   "source": [
    "#Selecting parameters of the model with the least test mae: model that generalized well with unseen records\n",
    "model_eval_df_lag[model_eval_df_lag.test_mae == model_eval_df_lag.test_mae.min()][\"best_parameter\"].iloc[0]"
   ]
  },
  {
   "cell_type": "code",
   "execution_count": 75,
   "metadata": {
    "execution": {
     "iopub.execute_input": "2023-12-15T18:43:31.135177Z",
     "iopub.status.busy": "2023-12-15T18:43:31.134807Z",
     "iopub.status.idle": "2023-12-15T18:43:31.917988Z",
     "shell.execute_reply": "2023-12-15T18:43:31.916811Z",
     "shell.execute_reply.started": "2023-12-15T18:43:31.135148Z"
    },
    "id": "euCI_s5dajMB",
    "trusted": true
   },
   "outputs": [
    {
     "name": "stdout",
     "output_type": "stream",
     "text": [
      "Ridge R-square Train: 0.58\n",
      "Ridge R-square Test: 0.48\n",
      "Ridge Model MAE (training): N35,673,206.30\n",
      "Ridge Model MAE (test): N39,442,863.82\n"
     ]
    }
   ],
   "source": [
    "from sklearn.preprocessing import StandardScaler\n",
    "# fitting our model with the best parameters\n",
    "final_model_lag = make_pipeline(\n",
    "    OrdinalEncoder(),               # Encoding categorical features\n",
    "    StandardScaler(),               # Scaling the features\n",
    "    GradientBoostingRegressor(random_state=42, alpha=1e-10, max_depth=4, n_estimators=200)\n",
    ")\n",
    "final_model_lag.fit(X_train_lag, y_train_lag)\n",
    "\n",
    "print(f\"Ridge R-square Train: {r2_score(y_train_lag, final_model_lag.predict(X_train_lag)):,.2f}\")\n",
    "print(f\"Ridge R-square Test: {r2_score(y_test_lag, final_model_lag.predict(X_test_lag)):,.2f}\")\n",
    "print(f\"Ridge Model MAE (training): N{mean_absolute_error(y_train_lag, final_model_lag.predict(X_train_lag)):,.2f}\")\n",
    "print(f\"Ridge Model MAE (test): N{mean_absolute_error(y_test_lag, final_model_lag.predict(X_test_lag)):,.2f}\")"
   ]
  },
  {
   "cell_type": "code",
   "execution_count": 58,
   "metadata": {
    "execution": {
     "iopub.execute_input": "2023-12-15T18:43:31.921376Z",
     "iopub.status.busy": "2023-12-15T18:43:31.920941Z",
     "iopub.status.idle": "2023-12-15T18:43:31.951321Z",
     "shell.execute_reply": "2023-12-15T18:43:31.950126Z",
     "shell.execute_reply.started": "2023-12-15T18:43:31.921337Z"
    },
    "id": "XqlSssyvajMC",
    "trusted": true
   },
   "outputs": [],
   "source": [
    "# define a function that graphs the actual price versus the predicted and also the top n errors\n",
    "\n",
    "def actual_pred_graph (state_name:str, X_train, X_test, y_test, y_train, model, number_of_error = 20):\n",
    "    y_pred_test = pd.Series(model.predict(X_test), index=y_test.index)\n",
    "    error_test = np.abs(y_test - y_pred_test)\n",
    "\n",
    "    y_pred_train = pd.Series(model.predict(X_train), index=y_train.index)\n",
    "    error_train = np.abs(y_train - y_pred_train)\n",
    "\n",
    "    train_r2 = r2_score(y_train, model.predict(X_train))\n",
    "    test_r2 = r2_score(y_test, model.predict(X_test))\n",
    "\n",
    "    if number_of_error > 1 and number_of_error < len(y_test):\n",
    "\n",
    "        index_top_n_errors_test = np.argsort(error_test).iloc[-number_of_error:].to_list()\n",
    "        index_top_n_errors_train = np.argsort(error_train).iloc[-number_of_error:].to_list()\n",
    "\n",
    "        top_n_error_lag_test = pd.DataFrame(X_test.iloc[index_top_n_errors_test, :]) #to avoid flagging loc error\n",
    "        top_n_error_lag_test.loc[:,\"price\"] = y_test.iloc[index_top_n_errors_test]\n",
    "        top_n_error_lag_test.loc[:,\"predict\"] = y_pred_test.iloc[index_top_n_errors_test].astype(int)\n",
    "        top_n_error_lag_test.loc[:,\"abs_error\"] = error_test.iloc[index_top_n_errors_test].astype(int)\n",
    "\n",
    "        top_n_error_lag_train = pd.DataFrame(X_train.iloc[index_top_n_errors_train, :]) #to avoid flagging loc error\n",
    "        top_n_error_lag_train.loc[:,\"price\"] = y_train.iloc[index_top_n_errors_train]\n",
    "        top_n_error_lag_train.loc[:,\"predict\"] = y_pred_train.iloc[index_top_n_errors_train].astype(int)\n",
    "        top_n_error_lag_train.loc[:,\"abs_error\"] = error_train.iloc[index_top_n_errors_train].astype(int)\n",
    "\n",
    "        plt.figure(figsize=(12,6))\n",
    "\n",
    "        plt.subplot(1,2,1)\n",
    "        plt.scatter(x=y_test/1e6, y=y_pred_test/1e6, alpha=0.6, c=\"silver\", label=f\"R_square={test_r2.round(2)}\")\n",
    "        plt.scatter(x=top_n_error_lag_test.price/1e6, y=top_n_error_lag_test.predict/1e6, c=\"black\",\n",
    "                    marker=\"X\", alpha=0.4, label=f\"Top {number_of_error} Abs Errors\")\n",
    "        plt.plot([0,y_test.max()/1e6], [0,y_test.max()/1e6], ls=\"--\", color=\"dimgray\", alpha=0.5, label=\"Fitted Linear Model\")\n",
    "        plt.xlabel(f\"{state_name} Actual House Price\")\n",
    "        plt.ylabel(\"Predicted House Price\")\n",
    "        plt.legend()\n",
    "        plt.title(f\"{state_name} (Test set): Actual Price vs Predicted Price\")\n",
    "\n",
    "        plt.subplot(1,2,2)\n",
    "        plt.scatter(x=y_train/1e6, y=y_pred_train/1e6, alpha=0.6, c=\"silver\", label=f\"R_square={train_r2.round(2)}\")\n",
    "        plt.scatter(x=top_n_error_lag_train.price/1e6, y=top_n_error_lag_train.predict/1e6, c=\"black\",\n",
    "                    marker=\"X\", alpha=0.4, label=f\"Top {number_of_error} Abs Errors\")\n",
    "        plt.plot([0,y_train.max()/1e6], [0,y_train.max()/1e6], ls=\"--\", color=\"dimgray\", alpha=0.5, label=\"Fitted Linear Model\")\n",
    "        plt.xlabel(\"Actual House Price\")\n",
    "        plt.ylabel(\"Predicted House Price\")\n",
    "        plt.legend()\n",
    "        plt.title(f\"{state_name} (Train set): Actual Price vs Predicted Price\")\n",
    "        plt.tight_layout();\n",
    "\n",
    "    else:\n",
    "        plt.figure(figsize=(12,6))\n",
    "\n",
    "        plt.subplot(1,2,1)\n",
    "        plt.scatter(x=y_test/1e6, y=y_pred_test/1e6, alpha=0.6, c=\"silver\", label=f\"R_square={test_r2.round(2)}\")\n",
    "        plt.plot([0,y_test.max()/1e6], [0,y_test.max()/1e6], ls=\"--\", color=\"dimgray\", alpha=0.5, label=\"Fitted Linear Model\")\n",
    "        plt.xlabel(f\"{state_name} Actual House Price\")\n",
    "        plt.ylabel(\"Predicted House Price\")\n",
    "        plt.legend()\n",
    "        plt.title(f\"{state_name} (Test set): Actual Price vs Predicted Price\")\n",
    "\n",
    "        plt.subplot(1,2,2)\n",
    "        plt.scatter(x=y_train/1e6, y=y_pred_train/1e6, alpha=0.6, c=\"silver\", label=f\"R_square={train_r2.round(2)}\")\n",
    "        plt.plot([0,y_train.max()/1e6], [0,y_train.max()/1e6], ls=\"--\", color=\"dimgray\", alpha=0.5, label=\"Fitted Linear Model\")\n",
    "        plt.xlabel(\"Actual House Price\")\n",
    "        plt.ylabel(\"Predicted House Price\")\n",
    "        plt.legend()\n",
    "        plt.title(f\"{state_name} (Train set): Actual Price vs Predicted Price\")\n",
    "        plt.tight_layout();"
   ]
  },
  {
   "cell_type": "markdown",
   "metadata": {
    "id": "PdduzSyvajME"
   },
   "source": [
    "## Predicting Abuja FCT House Price"
   ]
  },
  {
   "cell_type": "code",
   "execution_count": 59,
   "metadata": {
    "execution": {
     "iopub.execute_input": "2023-12-15T18:43:33.062315Z",
     "iopub.status.busy": "2023-12-15T18:43:33.061394Z",
     "iopub.status.idle": "2023-12-15T18:43:33.082182Z",
     "shell.execute_reply": "2023-12-15T18:43:33.081429Z",
     "shell.execute_reply.started": "2023-12-15T18:43:33.062282Z"
    },
    "id": "s-A9hTNYajME",
    "trusted": true
   },
   "outputs": [
    {
     "name": "stdout",
     "output_type": "stream",
     "text": [
      "(2529, 7)\n"
     ]
    },
    {
     "data": {
      "text/html": [
       "<div>\n",
       "<style scoped>\n",
       "    .dataframe tbody tr th:only-of-type {\n",
       "        vertical-align: middle;\n",
       "    }\n",
       "\n",
       "    .dataframe tbody tr th {\n",
       "        vertical-align: top;\n",
       "    }\n",
       "\n",
       "    .dataframe thead th {\n",
       "        text-align: right;\n",
       "    }\n",
       "</style>\n",
       "<table border=\"1\" class=\"dataframe\">\n",
       "  <thead>\n",
       "    <tr style=\"text-align: right;\">\n",
       "      <th></th>\n",
       "      <th>bedrooms</th>\n",
       "      <th>bathrooms</th>\n",
       "      <th>toilets</th>\n",
       "      <th>parking_space</th>\n",
       "      <th>title</th>\n",
       "      <th>town</th>\n",
       "      <th>price</th>\n",
       "    </tr>\n",
       "  </thead>\n",
       "  <tbody>\n",
       "    <tr>\n",
       "      <th>10</th>\n",
       "      <td>3.0</td>\n",
       "      <td>4.0</td>\n",
       "      <td>5.0</td>\n",
       "      <td>4.0</td>\n",
       "      <td>Terraced Duplexes</td>\n",
       "      <td>Lokogoma District</td>\n",
       "      <td>25000000.0</td>\n",
       "    </tr>\n",
       "    <tr>\n",
       "      <th>17</th>\n",
       "      <td>3.0</td>\n",
       "      <td>3.0</td>\n",
       "      <td>4.0</td>\n",
       "      <td>4.0</td>\n",
       "      <td>Detached Bungalow</td>\n",
       "      <td>Lokogoma District</td>\n",
       "      <td>37000000.0</td>\n",
       "    </tr>\n",
       "    <tr>\n",
       "      <th>23</th>\n",
       "      <td>5.0</td>\n",
       "      <td>6.0</td>\n",
       "      <td>7.0</td>\n",
       "      <td>6.0</td>\n",
       "      <td>Detached Duplex</td>\n",
       "      <td>Katampe</td>\n",
       "      <td>160000000.0</td>\n",
       "    </tr>\n",
       "    <tr>\n",
       "      <th>34</th>\n",
       "      <td>5.0</td>\n",
       "      <td>5.0</td>\n",
       "      <td>6.0</td>\n",
       "      <td>6.0</td>\n",
       "      <td>Detached Duplex</td>\n",
       "      <td>Kaura</td>\n",
       "      <td>150000000.0</td>\n",
       "    </tr>\n",
       "    <tr>\n",
       "      <th>35</th>\n",
       "      <td>4.0</td>\n",
       "      <td>4.0</td>\n",
       "      <td>5.0</td>\n",
       "      <td>8.0</td>\n",
       "      <td>Detached Duplex</td>\n",
       "      <td>Galadimawa</td>\n",
       "      <td>70000000.0</td>\n",
       "    </tr>\n",
       "  </tbody>\n",
       "</table>\n",
       "</div>"
      ],
      "text/plain": [
       "    bedrooms  bathrooms  toilets  parking_space              title  \\\n",
       "10       3.0        4.0      5.0            4.0  Terraced Duplexes   \n",
       "17       3.0        3.0      4.0            4.0  Detached Bungalow   \n",
       "23       5.0        6.0      7.0            6.0    Detached Duplex   \n",
       "34       5.0        5.0      6.0            6.0    Detached Duplex   \n",
       "35       4.0        4.0      5.0            8.0    Detached Duplex   \n",
       "\n",
       "                 town        price  \n",
       "10  Lokogoma District   25000000.0  \n",
       "17  Lokogoma District   37000000.0  \n",
       "23            Katampe  160000000.0  \n",
       "34              Kaura  150000000.0  \n",
       "35         Galadimawa   70000000.0  "
      ]
     },
     "execution_count": 59,
     "metadata": {},
     "output_type": "execute_result"
    }
   ],
   "source": [
    "# Extract Abuja records\n",
    "\n",
    "abuja_df = df_dup[df_dup[\"state\"] == \"Abuja\"].drop(columns=\"state\")\n",
    "print(abuja_df.shape)\n",
    "abuja_df.head()"
   ]
  },
  {
   "cell_type": "code",
   "execution_count": 60,
   "metadata": {
    "execution": {
     "iopub.execute_input": "2023-12-15T18:43:33.083774Z",
     "iopub.status.busy": "2023-12-15T18:43:33.083171Z",
     "iopub.status.idle": "2023-12-15T18:43:33.098615Z",
     "shell.execute_reply": "2023-12-15T18:43:33.097436Z",
     "shell.execute_reply.started": "2023-12-15T18:43:33.083743Z"
    },
    "id": "0n-0tiWQajMF",
    "trusted": true
   },
   "outputs": [
    {
     "data": {
      "text/plain": [
       "array(['Lokogoma District', 'Katampe', 'Kaura', 'Galadimawa', 'Gwarinpa',\n",
       "       'Lugbe District', 'Jahi', 'Others_abuja', 'Guzape District',\n",
       "       'Utako', 'Life Camp', 'Gaduwa', 'Asokoro District', 'Wuye',\n",
       "       'Kubwa', 'Apo', 'Wuse 2', 'Durumi', 'Mabushi', 'Karsana', 'Wuse',\n",
       "       'Karmo', 'Maitama District', 'Gudu', 'Mbora (Nbora)', 'Jabi',\n",
       "       'Garki', 'Kado'], dtype=object)"
      ]
     },
     "execution_count": 60,
     "metadata": {},
     "output_type": "execute_result"
    }
   ],
   "source": [
    "#Categorizing towns with less than 20 records as Others\n",
    "abuja_df = categorize_as_other(\"abuja\", abuja_df)\n",
    "abuja_df[\"town\"].unique()"
   ]
  },
  {
   "cell_type": "markdown",
   "metadata": {
    "id": "mYg-1yN_ajMF"
   },
   "source": [
    "## Modeling Abuja House Price"
   ]
  },
  {
   "cell_type": "markdown",
   "metadata": {
    "id": "MkDZBgHdajMG"
   },
   "source": [
    "#### Splitting data into training and test sets"
   ]
  },
  {
   "cell_type": "code",
   "execution_count": 61,
   "metadata": {
    "execution": {
     "iopub.execute_input": "2023-12-15T18:43:33.100405Z",
     "iopub.status.busy": "2023-12-15T18:43:33.099895Z",
     "iopub.status.idle": "2023-12-15T18:43:33.107354Z",
     "shell.execute_reply": "2023-12-15T18:43:33.106462Z",
     "shell.execute_reply.started": "2023-12-15T18:43:33.100377Z"
    },
    "id": "plU0AkGpajMG",
    "trusted": true
   },
   "outputs": [],
   "source": [
    "X_abj, y_abj = abuja_df.drop(columns=\"price\"), abuja_df[\"price\"]\n",
    "\n",
    "X_train_abj, X_test_abj, y_train_abj, y_test_abj = train_test_split(X_abj, y_abj, test_size=0.2, random_state=42)"
   ]
  },
  {
   "cell_type": "markdown",
   "metadata": {
    "id": "TV6eMxM1ajMH"
   },
   "source": [
    "#### Baseline Model"
   ]
  },
  {
   "cell_type": "code",
   "execution_count": 62,
   "metadata": {
    "execution": {
     "iopub.execute_input": "2023-12-15T18:43:33.109132Z",
     "iopub.status.busy": "2023-12-15T18:43:33.108568Z",
     "iopub.status.idle": "2023-12-15T18:43:33.121541Z",
     "shell.execute_reply": "2023-12-15T18:43:33.120383Z",
     "shell.execute_reply.started": "2023-12-15T18:43:33.109103Z"
    },
    "id": "HjKgLNyoajMI",
    "trusted": true
   },
   "outputs": [
    {
     "name": "stdout",
     "output_type": "stream",
     "text": [
      "Baseline R-square: 0.0\n",
      "Baseline Model MAE (training): N60,041,228.35\n",
      "Baseline Model MAE (test): N59,813,403.72\n"
     ]
    }
   ],
   "source": [
    "y_pred_base_abj = [y_train_abj.mean()] * len(y_train_abj)\n",
    "\n",
    "print(f\"Baseline R-square: {r2_score(y_train_abj, y_pred_base_abj)}\")\n",
    "print(f\"Baseline Model MAE (training): N{mean_absolute_error(y_train_abj, y_pred_base_abj):,.2f}\")\n",
    "print(f\"Baseline Model MAE (test): N{mean_absolute_error(y_test_abj, [y_train_abj.mean()] * len(y_test_abj)):,.2f}\")"
   ]
  },
  {
   "cell_type": "markdown",
   "metadata": {
    "id": "w5V97KUeajMI"
   },
   "source": [
    "#### Model Selection: GridSearchCV"
   ]
  },
  {
   "cell_type": "code",
   "execution_count": 63,
   "metadata": {
    "execution": {
     "iopub.execute_input": "2023-12-15T18:45:47.831949Z",
     "iopub.status.busy": "2023-12-15T18:45:47.831178Z",
     "iopub.status.idle": "2023-12-15T18:47:29.848562Z",
     "shell.execute_reply": "2023-12-15T18:47:29.847412Z",
     "shell.execute_reply.started": "2023-12-15T18:45:47.831912Z"
    },
    "id": "HT2n4TLpajMJ",
    "trusted": true
   },
   "outputs": [
    {
     "data": {
      "text/html": [
       "<div>\n",
       "<style scoped>\n",
       "    .dataframe tbody tr th:only-of-type {\n",
       "        vertical-align: middle;\n",
       "    }\n",
       "\n",
       "    .dataframe tbody tr th {\n",
       "        vertical-align: top;\n",
       "    }\n",
       "\n",
       "    .dataframe thead th {\n",
       "        text-align: right;\n",
       "    }\n",
       "</style>\n",
       "<table border=\"1\" class=\"dataframe\">\n",
       "  <thead>\n",
       "    <tr style=\"text-align: right;\">\n",
       "      <th></th>\n",
       "      <th>best_parameter</th>\n",
       "      <th>train_mae</th>\n",
       "      <th>test_mae</th>\n",
       "      <th>r_square</th>\n",
       "    </tr>\n",
       "    <tr>\n",
       "      <th>model_name</th>\n",
       "      <th></th>\n",
       "      <th></th>\n",
       "      <th></th>\n",
       "      <th></th>\n",
       "    </tr>\n",
       "  </thead>\n",
       "  <tbody>\n",
       "    <tr>\n",
       "      <th>Ridge</th>\n",
       "      <td>{'ridge__alpha': 5}</td>\n",
       "      <td>37739289</td>\n",
       "      <td>38540943</td>\n",
       "      <td>0.537003</td>\n",
       "    </tr>\n",
       "    <tr>\n",
       "      <th>DecisionTreeRegressor</th>\n",
       "      <td>{'decisiontreeregressor__max_depth': 10}</td>\n",
       "      <td>39126053</td>\n",
       "      <td>42900156</td>\n",
       "      <td>0.665895</td>\n",
       "    </tr>\n",
       "    <tr>\n",
       "      <th>RandomForestRegressor</th>\n",
       "      <td>{'randomforestregressor__max_depth': 10, 'rand...</td>\n",
       "      <td>36093128</td>\n",
       "      <td>38113170</td>\n",
       "      <td>0.724051</td>\n",
       "    </tr>\n",
       "    <tr>\n",
       "      <th>GradientBoostingRegressor</th>\n",
       "      <td>{'gradientboostingregressor__alpha': 1e-10, 'g...</td>\n",
       "      <td>35440115</td>\n",
       "      <td>36861465</td>\n",
       "      <td>0.702845</td>\n",
       "    </tr>\n",
       "    <tr>\n",
       "      <th>SVR</th>\n",
       "      <td>{'svr__kernel': 'linear'}</td>\n",
       "      <td>55720262</td>\n",
       "      <td>54581544</td>\n",
       "      <td>-0.130410</td>\n",
       "    </tr>\n",
       "    <tr>\n",
       "      <th>KNeighborsRegressor</th>\n",
       "      <td>{'kneighborsregressor__n_neighbors': 10, 'knei...</td>\n",
       "      <td>42002225</td>\n",
       "      <td>43282895</td>\n",
       "      <td>0.858386</td>\n",
       "    </tr>\n",
       "  </tbody>\n",
       "</table>\n",
       "</div>"
      ],
      "text/plain": [
       "                                                              best_parameter  \\\n",
       "model_name                                                                     \n",
       "Ridge                                                    {'ridge__alpha': 5}   \n",
       "DecisionTreeRegressor               {'decisiontreeregressor__max_depth': 10}   \n",
       "RandomForestRegressor      {'randomforestregressor__max_depth': 10, 'rand...   \n",
       "GradientBoostingRegressor  {'gradientboostingregressor__alpha': 1e-10, 'g...   \n",
       "SVR                                                {'svr__kernel': 'linear'}   \n",
       "KNeighborsRegressor        {'kneighborsregressor__n_neighbors': 10, 'knei...   \n",
       "\n",
       "                           train_mae  test_mae  r_square  \n",
       "model_name                                                \n",
       "Ridge                       37739289  38540943  0.537003  \n",
       "DecisionTreeRegressor       39126053  42900156  0.665895  \n",
       "RandomForestRegressor       36093128  38113170  0.724051  \n",
       "GradientBoostingRegressor   35440115  36861465  0.702845  \n",
       "SVR                         55720262  54581544 -0.130410  \n",
       "KNeighborsRegressor         42002225  43282895  0.858386  "
      ]
     },
     "execution_count": 63,
     "metadata": {},
     "output_type": "execute_result"
    }
   ],
   "source": [
    "model_eval_df_abj = grid_search_cv(X_train_abj, X_test_abj, y_train_abj, y_test_abj)\n",
    "model_eval_df_abj"
   ]
  },
  {
   "cell_type": "markdown",
   "metadata": {
    "id": "dKN9DUdmajMJ"
   },
   "source": [
    "Also for the `abuja_df`, the `GradientBoostingRegressor` performed well compared to other regression models."
   ]
  },
  {
   "cell_type": "code",
   "execution_count": 64,
   "metadata": {
    "execution": {
     "iopub.execute_input": "2023-12-15T18:47:29.851307Z",
     "iopub.status.busy": "2023-12-15T18:47:29.850222Z",
     "iopub.status.idle": "2023-12-15T18:47:29.860355Z",
     "shell.execute_reply": "2023-12-15T18:47:29.85918Z",
     "shell.execute_reply.started": "2023-12-15T18:47:29.851274Z"
    },
    "id": "AAqfrctyajMK",
    "trusted": true
   },
   "outputs": [
    {
     "data": {
      "text/plain": [
       "{'gradientboostingregressor__alpha': 1e-10,\n",
       " 'gradientboostingregressor__max_depth': 4,\n",
       " 'gradientboostingregressor__n_estimators': 200}"
      ]
     },
     "execution_count": 64,
     "metadata": {},
     "output_type": "execute_result"
    }
   ],
   "source": [
    "#Selecting parameters of the model with the least test mae: model that generalized well with unseen records\n",
    "model_eval_df_abj[model_eval_df_abj.test_mae == model_eval_df_abj.test_mae.min()][\"best_parameter\"].iloc[0]"
   ]
  },
  {
   "cell_type": "code",
   "execution_count": 79,
   "metadata": {
    "execution": {
     "iopub.execute_input": "2023-12-15T18:48:15.420408Z",
     "iopub.status.busy": "2023-12-15T18:48:15.420026Z",
     "iopub.status.idle": "2023-12-15T18:48:15.77822Z",
     "shell.execute_reply": "2023-12-15T18:48:15.777106Z",
     "shell.execute_reply.started": "2023-12-15T18:48:15.420379Z"
    },
    "id": "ABvrg288ajML",
    "trusted": true
   },
   "outputs": [
    {
     "name": "stdout",
     "output_type": "stream",
     "text": [
      "Ridge R-square: 0.70\n",
      "Ridge Model MAE (training): N27,760,527.92\n",
      "Ridge Model MAE (test): N36,885,676.26\n"
     ]
    }
   ],
   "source": [
    "# fitting our model with the best parameters\n",
    "final_model_abj = make_pipeline(OrdinalEncoder(),               # Encoding categorical features\n",
    "    StandardScaler(),               # Scaling the features\n",
    "    GradientBoostingRegressor(random_state=42, alpha=1e-10, max_depth=4, n_estimators=200))\n",
    "final_model_abj.fit(X_train_abj, y_train_abj)\n",
    "\n",
    "print(f\"Ridge R-square: {r2_score(y_train_abj, final_model_abj.predict(X_train_abj)):,.2f}\")\n",
    "print(f\"Ridge Model MAE (training): N{mean_absolute_error(y_train_abj, final_model_abj.predict(X_train_abj)):,.2f}\")\n",
    "print(f\"Ridge Model MAE (test): N{mean_absolute_error(y_test_abj, final_model_abj.predict(X_test_abj)):,.2f}\")"
   ]
  },
  {
   "cell_type": "markdown",
   "metadata": {
    "id": "FX8Kz3DKajMM"
   },
   "source": [
    "### Function to Predict Housing Price in Lagos and Abuja"
   ]
  },
  {
   "cell_type": "code",
   "execution_count": null,
   "metadata": {
    "execution": {
     "iopub.execute_input": "2023-12-15T18:49:19.539881Z",
     "iopub.status.busy": "2023-12-15T18:49:19.53944Z",
     "iopub.status.idle": "2023-12-15T18:49:19.552039Z",
     "shell.execute_reply": "2023-12-15T18:49:19.550722Z",
     "shell.execute_reply.started": "2023-12-15T18:49:19.539848Z"
    },
    "id": "jkFKS7NQajMN",
    "trusted": true
   },
   "outputs": [],
   "source": [
    "def prediction_fun(state:str = \"Lagos\", bedrooms:int = 1, bathrooms:int = 1, toilets:int = 1,\n",
    "                      parking_space:int = 1, title:str = \"Detached Duplex\", town:str=\"Ikoyi\"):\n",
    "\n",
    "    if state.capitalize() == \"Lagos\":\n",
    "        if town in list(lagos_df[\"town\"].unique()) and title in list(lagos_df[\"title\"].unique()) :\n",
    "            X = pd.DataFrame({\"bedrooms\":bedrooms, \"bathrooms\":bathrooms, \"toilets\":toilets,\n",
    "                              \"parking_space\":parking_space, \"title\":title, \"town\":town}, index=[0])\n",
    "            y_pred = final_model_lag.predict(X)[0]\n",
    "            print(f\"The price of a {title} with {bedrooms} bedroom(s), {bathrooms} bathroom(s), and {parking_space} parking space(s) in {town}, {state.capitalize()} is {y_pred:,.2f}\")\n",
    "\n",
    "        else:\n",
    "            print(f\"\"\"\n",
    "                  Prediction Error!\n",
    "\n",
    "                  - Check if title ({title}) is in:\n",
    "                  {lagos_df.title.unique()} and/or\n",
    "\n",
    "                  - Check if the town ({town}) is in {state} towns:\n",
    "                  {lagos_df.town.unique()}\n",
    "                  \"\"\"\n",
    "                  )\n",
    "\n",
    "    elif state.capitalize() == \"Abuja\":\n",
    "        if town in list(abuja_df[\"town\"].unique()) and title in list(abuja_df[\"title\"].unique()) :\n",
    "            X = pd.DataFrame({\"bedrooms\":bedrooms, \"bathrooms\":bathrooms, \"toilets\":toilets,\n",
    "                              \"parking_space\":parking_space, \"title\":title, \"town\":town}, index=[0])\n",
    "            y_pred = final_model_abj.predict(X)[0]\n",
    "            print(f\"The price of a {title} with {bedrooms} bedroom(s), {bathrooms} bathroom(s), and {parking_space} parking space(s) in {town}, {state.capitalize()} is {y_pred:,.2f}\")\n",
    "\n",
    "        else:\n",
    "            print(f\"\"\"\n",
    "                  Prediction Error!\n",
    "\n",
    "                  - Check if title ({title}) is in:\n",
    "                  {abuja_df.title.unique()} and/or\n",
    "\n",
    "                  - Check if the town ({town}) is in {state} towns:\n",
    "                  {abuja_df.town.unique()}\n",
    "                  \"\"\"\n",
    "                  )\n",
    "    else:\n",
    "        print(f\"Invalid state name: \\\"{state}.\\\" State should either be 'Lagos' or 'Abuja'\")\n"
   ]
  },
  {
   "cell_type": "code",
   "execution_count": null,
   "metadata": {
    "execution": {
     "iopub.execute_input": "2023-12-15T18:49:28.860739Z",
     "iopub.status.busy": "2023-12-15T18:49:28.859597Z",
     "iopub.status.idle": "2023-12-15T18:49:28.870347Z",
     "shell.execute_reply": "2023-12-15T18:49:28.869203Z",
     "shell.execute_reply.started": "2023-12-15T18:49:28.860698Z"
    },
    "id": "qCqYMSd6ajMO",
    "trusted": true
   },
   "outputs": [],
   "source": [
    "prediction_fun( state=\"abuja\", town='Katampe')"
   ]
  },
  {
   "cell_type": "code",
   "execution_count": 81,
   "metadata": {
    "id": "ztO_Be3najMQ"
   },
   "outputs": [
    {
     "data": {
      "text/plain": [
       "array([1.03342376e+08])"
      ]
     },
     "execution_count": 81,
     "metadata": {},
     "output_type": "execute_result"
    }
   ],
   "source": [
    "input_features = [[4.0,\t5.0, 5.0, 4.0, \"Detached Duplex\", \"Lekki\"]]\n",
    "\n",
    "final_model_lag.predict(input_features)\n"
   ]
  },
  {
   "cell_type": "code",
   "execution_count": 80,
   "metadata": {},
   "outputs": [
    {
     "data": {
      "text/plain": [
       "['final_model_abj.joblib']"
      ]
     },
     "execution_count": 80,
     "metadata": {},
     "output_type": "execute_result"
    }
   ],
   "source": [
    "import joblib\n",
    "\n",
    "# saving the models\n",
    "# Save the Lagos model\n",
    "joblib.dump(final_model_lag, 'final_model_lag.joblib')\n",
    "\n",
    "# Save the Abuja model\n",
    "joblib.dump(final_model_abj, 'final_model_abj.joblib')"
   ]
  },
  {
   "cell_type": "code",
   "execution_count": null,
   "metadata": {},
   "outputs": [],
   "source": []
  }
 ],
 "metadata": {
  "colab": {
   "name": "Lagos & Abuja Housing Price Prediction",
   "provenance": []
  },
  "kaggle": {
   "accelerator": "none",
   "dataSources": [
    {
     "datasetId": 1415024,
     "sourceId": 2344026,
     "sourceType": "datasetVersion"
    }
   ],
   "dockerImageVersionId": 30626,
   "isGpuEnabled": false,
   "isInternetEnabled": true,
   "language": "python",
   "sourceType": "notebook"
  },
  "kernelspec": {
   "display_name": "Python 3",
   "language": "python",
   "name": "python3"
  },
  "language_info": {
   "codemirror_mode": {
    "name": "ipython",
    "version": 3
   },
   "file_extension": ".py",
   "mimetype": "text/x-python",
   "name": "python",
   "nbconvert_exporter": "python",
   "pygments_lexer": "ipython3",
   "version": "3.12.7"
  }
 },
 "nbformat": 4,
 "nbformat_minor": 0
}
